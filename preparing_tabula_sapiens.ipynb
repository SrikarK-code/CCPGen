{
  "cells": [
    {
      "cell_type": "code",
      "execution_count": 1,
      "metadata": {
        "colab": {
          "base_uri": "https://localhost:8080/"
        },
        "id": "KDAoYWzmSUK2",
        "outputId": "48c33069-322c-42df-b04a-fdc6254890d7"
      },
      "outputs": [
        {
          "output_type": "stream",
          "name": "stdout",
          "text": [
            "Mounted at /content/drive\n"
          ]
        }
      ],
      "source": [
        "from google.colab import drive\n",
        "drive.mount('/content/drive')"
      ]
    },
    {
      "cell_type": "code",
      "execution_count": 2,
      "metadata": {
        "id": "bBvdMxciSYry"
      },
      "outputs": [],
      "source": [
        "import os\n",
        "os.chdir('/content/drive/MyDrive/Programmable Biology Group/Srikar/Code/cells/tf-flow-design/')"
      ]
    },
    {
      "cell_type": "markdown",
      "metadata": {
        "id": "-CKlrWyyc6AU"
      },
      "source": [
        "## initial EDA Code"
      ]
    },
    {
      "cell_type": "code",
      "execution_count": null,
      "metadata": {
        "id": "7nHzz5JSTba_"
      },
      "outputs": [],
      "source": [
        "import pandas as pd\n",
        "md = pd.read_csv('Tabula_Sapiens_metadata.csv',index_col=0)"
      ]
    },
    {
      "cell_type": "code",
      "execution_count": null,
      "metadata": {
        "colab": {
          "base_uri": "https://localhost:8080/"
        },
        "id": "Du1QElM6UIC1",
        "outputId": "46bc2189-7155-4bdd-aeca-b470f9d13a10"
      },
      "outputs": [
        {
          "data": {
            "text/plain": [
              "320"
            ]
          },
          "execution_count": 4,
          "metadata": {},
          "output_type": "execute_result"
        }
      ],
      "source": [
        "import numpy as np\n",
        "len(np.unique(md['free_annotation']))"
      ]
    },
    {
      "cell_type": "code",
      "execution_count": null,
      "metadata": {
        "colab": {
          "base_uri": "https://localhost:8080/"
        },
        "id": "TpOv6FJ8Tk2C",
        "outputId": "8366149c-a893-4069-e944-327dab7aac78"
      },
      "outputs": [
        {
          "data": {
            "text/plain": [
              "177"
            ]
          },
          "execution_count": 5,
          "metadata": {},
          "output_type": "execute_result"
        }
      ],
      "source": [
        "import numpy as np\n",
        "len(np.unique(md['cell_ontology_class']))"
      ]
    },
    {
      "cell_type": "code",
      "execution_count": null,
      "metadata": {
        "colab": {
          "base_uri": "https://localhost:8080/"
        },
        "id": "wfI5Qs2OYTN1",
        "outputId": "d6efd5fc-3d4e-4656-b5d7-fb184fffb0e0"
      },
      "outputs": [
        {
          "name": "stdout",
          "output_type": "stream",
          "text": [
            "Collecting anndata\n",
            "  Downloading anndata-0.10.7-py3-none-any.whl (122 kB)\n",
            "\u001b[2K     \u001b[90m━━━━━━━━━━━━━━━━━━━━━━━━━━━━━━━━━━━━━━━━\u001b[0m \u001b[32m122.4/122.4 kB\u001b[0m \u001b[31m2.2 MB/s\u001b[0m eta \u001b[36m0:00:00\u001b[0m\n",
            "\u001b[?25hCollecting array-api-compat!=1.5,>1.4 (from anndata)\n",
            "  Downloading array_api_compat-1.6-py3-none-any.whl (36 kB)\n",
            "Requirement already satisfied: exceptiongroup in /usr/local/lib/python3.10/dist-packages (from anndata) (1.2.1)\n",
            "Requirement already satisfied: h5py>=3.1 in /usr/local/lib/python3.10/dist-packages (from anndata) (3.9.0)\n",
            "Requirement already satisfied: natsort in /usr/local/lib/python3.10/dist-packages (from anndata) (8.4.0)\n",
            "Requirement already satisfied: numpy>=1.23 in /usr/local/lib/python3.10/dist-packages (from anndata) (1.25.2)\n",
            "Requirement already satisfied: packaging>=20.0 in /usr/local/lib/python3.10/dist-packages (from anndata) (24.0)\n",
            "Requirement already satisfied: pandas!=2.1.0rc0,!=2.1.2,>=1.4 in /usr/local/lib/python3.10/dist-packages (from anndata) (2.0.3)\n",
            "Requirement already satisfied: scipy>1.8 in /usr/local/lib/python3.10/dist-packages (from anndata) (1.11.4)\n",
            "Requirement already satisfied: python-dateutil>=2.8.2 in /usr/local/lib/python3.10/dist-packages (from pandas!=2.1.0rc0,!=2.1.2,>=1.4->anndata) (2.8.2)\n",
            "Requirement already satisfied: pytz>=2020.1 in /usr/local/lib/python3.10/dist-packages (from pandas!=2.1.0rc0,!=2.1.2,>=1.4->anndata) (2023.4)\n",
            "Requirement already satisfied: tzdata>=2022.1 in /usr/local/lib/python3.10/dist-packages (from pandas!=2.1.0rc0,!=2.1.2,>=1.4->anndata) (2024.1)\n",
            "Requirement already satisfied: six>=1.5 in /usr/local/lib/python3.10/dist-packages (from python-dateutil>=2.8.2->pandas!=2.1.0rc0,!=2.1.2,>=1.4->anndata) (1.16.0)\n",
            "Installing collected packages: array-api-compat, anndata\n",
            "Successfully installed anndata-0.10.7 array-api-compat-1.6\n"
          ]
        }
      ],
      "source": [
        "!pip install anndata"
      ]
    },
    {
      "cell_type": "code",
      "execution_count": null,
      "metadata": {
        "id": "Q-4FrFwvYhV9"
      },
      "outputs": [],
      "source": [
        "import anndata\n",
        "adata = anndata.read_h5ad('TabulaSapiens.h5ad')"
      ]
    },
    {
      "cell_type": "code",
      "execution_count": null,
      "metadata": {
        "id": "d21G1gKhfTYo"
      },
      "outputs": [],
      "source": [
        "adata.write('/content/drive/MyDrive/2024-tf-design-code/TabulaSapiens.h5ad')"
      ]
    },
    {
      "cell_type": "code",
      "execution_count": null,
      "metadata": {
        "colab": {
          "base_uri": "https://localhost:8080/",
          "height": 461
        },
        "id": "_ZSuBnpbiFBd",
        "outputId": "d13971de-e6da-420a-ec3c-1677a8dfe9c7"
      },
      "outputs": [
        {
          "data": {
            "application/vnd.google.colaboratory.intrinsic+json": {
              "type": "dataframe"
            },
            "text/html": [
              "\n",
              "  <div id=\"df-48bae453-8dbb-4007-b6d3-4e4c898b2506\" class=\"colab-df-container\">\n",
              "    <div>\n",
              "<style scoped>\n",
              "    .dataframe tbody tr th:only-of-type {\n",
              "        vertical-align: middle;\n",
              "    }\n",
              "\n",
              "    .dataframe tbody tr th {\n",
              "        vertical-align: top;\n",
              "    }\n",
              "\n",
              "    .dataframe thead th {\n",
              "        text-align: right;\n",
              "    }\n",
              "</style>\n",
              "<table border=\"1\" class=\"dataframe\">\n",
              "  <thead>\n",
              "    <tr style=\"text-align: right;\">\n",
              "      <th></th>\n",
              "      <th>organ_tissue</th>\n",
              "      <th>method</th>\n",
              "      <th>donor</th>\n",
              "      <th>anatomical_information</th>\n",
              "      <th>n_counts_UMIs</th>\n",
              "      <th>n_genes</th>\n",
              "      <th>cell_ontology_class</th>\n",
              "      <th>free_annotation</th>\n",
              "      <th>manually_annotated</th>\n",
              "      <th>compartment</th>\n",
              "      <th>gender</th>\n",
              "    </tr>\n",
              "  </thead>\n",
              "  <tbody>\n",
              "    <tr>\n",
              "      <th>AAACCCACACTCCTGT_TSP6_Liver_NA_10X_1_1</th>\n",
              "      <td>Liver</td>\n",
              "      <td>10X</td>\n",
              "      <td>TSP6</td>\n",
              "      <td>nan</td>\n",
              "      <td>7633.0</td>\n",
              "      <td>2259</td>\n",
              "      <td>macrophage</td>\n",
              "      <td>Monocyte/Macrophage</td>\n",
              "      <td>True</td>\n",
              "      <td>immune</td>\n",
              "      <td>male</td>\n",
              "    </tr>\n",
              "    <tr>\n",
              "      <th>AAACGAAGTACCAGAG_TSP6_Liver_NA_10X_1_1</th>\n",
              "      <td>Liver</td>\n",
              "      <td>10X</td>\n",
              "      <td>TSP6</td>\n",
              "      <td>nan</td>\n",
              "      <td>2858.0</td>\n",
              "      <td>1152</td>\n",
              "      <td>monocyte</td>\n",
              "      <td>Monocyte</td>\n",
              "      <td>True</td>\n",
              "      <td>immune</td>\n",
              "      <td>male</td>\n",
              "    </tr>\n",
              "    <tr>\n",
              "      <th>AAACGCTCAACGGCTC_TSP6_Liver_NA_10X_1_1</th>\n",
              "      <td>Liver</td>\n",
              "      <td>10X</td>\n",
              "      <td>TSP6</td>\n",
              "      <td>nan</td>\n",
              "      <td>7787.0</td>\n",
              "      <td>2983</td>\n",
              "      <td>endothelial cell of hepatic sinusoid</td>\n",
              "      <td>Endothelial</td>\n",
              "      <td>True</td>\n",
              "      <td>endothelial</td>\n",
              "      <td>male</td>\n",
              "    </tr>\n",
              "    <tr>\n",
              "      <th>AAAGAACAGCCTCTTC_TSP6_Liver_NA_10X_1_1</th>\n",
              "      <td>Liver</td>\n",
              "      <td>10X</td>\n",
              "      <td>TSP6</td>\n",
              "      <td>nan</td>\n",
              "      <td>10395.0</td>\n",
              "      <td>2598</td>\n",
              "      <td>macrophage</td>\n",
              "      <td>Monocyte/Macrophage</td>\n",
              "      <td>True</td>\n",
              "      <td>immune</td>\n",
              "      <td>male</td>\n",
              "    </tr>\n",
              "    <tr>\n",
              "      <th>AAAGAACGTAGCACAG_TSP6_Liver_NA_10X_1_1</th>\n",
              "      <td>Liver</td>\n",
              "      <td>10X</td>\n",
              "      <td>TSP6</td>\n",
              "      <td>nan</td>\n",
              "      <td>6610.0</td>\n",
              "      <td>2125</td>\n",
              "      <td>liver dendritic cell</td>\n",
              "      <td>Dendritic cell</td>\n",
              "      <td>True</td>\n",
              "      <td>immune</td>\n",
              "      <td>male</td>\n",
              "    </tr>\n",
              "    <tr>\n",
              "      <th>...</th>\n",
              "      <td>...</td>\n",
              "      <td>...</td>\n",
              "      <td>...</td>\n",
              "      <td>...</td>\n",
              "      <td>...</td>\n",
              "      <td>...</td>\n",
              "      <td>...</td>\n",
              "      <td>...</td>\n",
              "      <td>...</td>\n",
              "      <td>...</td>\n",
              "      <td>...</td>\n",
              "    </tr>\n",
              "    <tr>\n",
              "      <th>TSP2_Vasculature_aorta_SS2_B114577_B133059_Endothelial_P4_S364</th>\n",
              "      <td>Vasculature</td>\n",
              "      <td>smartseq2</td>\n",
              "      <td>TSP2</td>\n",
              "      <td>aorta</td>\n",
              "      <td>13205.0</td>\n",
              "      <td>579</td>\n",
              "      <td>endothelial cell</td>\n",
              "      <td>endothelial cell</td>\n",
              "      <td>True</td>\n",
              "      <td>endothelial</td>\n",
              "      <td>female</td>\n",
              "    </tr>\n",
              "    <tr>\n",
              "      <th>TSP2_Vasculature_aorta_SS2_B114577_B133059_Endothelial_P5_S365</th>\n",
              "      <td>Vasculature</td>\n",
              "      <td>smartseq2</td>\n",
              "      <td>TSP2</td>\n",
              "      <td>aorta</td>\n",
              "      <td>9565.0</td>\n",
              "      <td>529</td>\n",
              "      <td>endothelial cell</td>\n",
              "      <td>endothelial cell</td>\n",
              "      <td>True</td>\n",
              "      <td>endothelial</td>\n",
              "      <td>female</td>\n",
              "    </tr>\n",
              "    <tr>\n",
              "      <th>TSP2_Vasculature_aorta_SS2_B114577_B133059_Endothelial_P7_S367</th>\n",
              "      <td>Vasculature</td>\n",
              "      <td>smartseq2</td>\n",
              "      <td>TSP2</td>\n",
              "      <td>aorta</td>\n",
              "      <td>195639.0</td>\n",
              "      <td>2753</td>\n",
              "      <td>endothelial cell</td>\n",
              "      <td>endothelial cell</td>\n",
              "      <td>True</td>\n",
              "      <td>endothelial</td>\n",
              "      <td>female</td>\n",
              "    </tr>\n",
              "    <tr>\n",
              "      <th>TSP2_Vasculature_aorta_SS2_B114577_B133059_Endothelial_P8_S368</th>\n",
              "      <td>Vasculature</td>\n",
              "      <td>smartseq2</td>\n",
              "      <td>TSP2</td>\n",
              "      <td>aorta</td>\n",
              "      <td>37260.0</td>\n",
              "      <td>984</td>\n",
              "      <td>endothelial cell</td>\n",
              "      <td>endothelial cell</td>\n",
              "      <td>True</td>\n",
              "      <td>endothelial</td>\n",
              "      <td>female</td>\n",
              "    </tr>\n",
              "    <tr>\n",
              "      <th>TSP2_Vasculature_aorta_SS2_B114577_B133059_Endothelial_P9_S369</th>\n",
              "      <td>Vasculature</td>\n",
              "      <td>smartseq2</td>\n",
              "      <td>TSP2</td>\n",
              "      <td>aorta</td>\n",
              "      <td>63837.0</td>\n",
              "      <td>1509</td>\n",
              "      <td>endothelial cell</td>\n",
              "      <td>endothelial cell</td>\n",
              "      <td>True</td>\n",
              "      <td>endothelial</td>\n",
              "      <td>female</td>\n",
              "    </tr>\n",
              "  </tbody>\n",
              "</table>\n",
              "<p>483152 rows × 11 columns</p>\n",
              "</div>\n",
              "    <div class=\"colab-df-buttons\">\n",
              "\n",
              "  <div class=\"colab-df-container\">\n",
              "    <button class=\"colab-df-convert\" onclick=\"convertToInteractive('df-48bae453-8dbb-4007-b6d3-4e4c898b2506')\"\n",
              "            title=\"Convert this dataframe to an interactive table.\"\n",
              "            style=\"display:none;\">\n",
              "\n",
              "  <svg xmlns=\"http://www.w3.org/2000/svg\" height=\"24px\" viewBox=\"0 -960 960 960\">\n",
              "    <path d=\"M120-120v-720h720v720H120Zm60-500h600v-160H180v160Zm220 220h160v-160H400v160Zm0 220h160v-160H400v160ZM180-400h160v-160H180v160Zm440 0h160v-160H620v160ZM180-180h160v-160H180v160Zm440 0h160v-160H620v160Z\"/>\n",
              "  </svg>\n",
              "    </button>\n",
              "\n",
              "  <style>\n",
              "    .colab-df-container {\n",
              "      display:flex;\n",
              "      gap: 12px;\n",
              "    }\n",
              "\n",
              "    .colab-df-convert {\n",
              "      background-color: #E8F0FE;\n",
              "      border: none;\n",
              "      border-radius: 50%;\n",
              "      cursor: pointer;\n",
              "      display: none;\n",
              "      fill: #1967D2;\n",
              "      height: 32px;\n",
              "      padding: 0 0 0 0;\n",
              "      width: 32px;\n",
              "    }\n",
              "\n",
              "    .colab-df-convert:hover {\n",
              "      background-color: #E2EBFA;\n",
              "      box-shadow: 0px 1px 2px rgba(60, 64, 67, 0.3), 0px 1px 3px 1px rgba(60, 64, 67, 0.15);\n",
              "      fill: #174EA6;\n",
              "    }\n",
              "\n",
              "    .colab-df-buttons div {\n",
              "      margin-bottom: 4px;\n",
              "    }\n",
              "\n",
              "    [theme=dark] .colab-df-convert {\n",
              "      background-color: #3B4455;\n",
              "      fill: #D2E3FC;\n",
              "    }\n",
              "\n",
              "    [theme=dark] .colab-df-convert:hover {\n",
              "      background-color: #434B5C;\n",
              "      box-shadow: 0px 1px 3px 1px rgba(0, 0, 0, 0.15);\n",
              "      filter: drop-shadow(0px 1px 2px rgba(0, 0, 0, 0.3));\n",
              "      fill: #FFFFFF;\n",
              "    }\n",
              "  </style>\n",
              "\n",
              "    <script>\n",
              "      const buttonEl =\n",
              "        document.querySelector('#df-48bae453-8dbb-4007-b6d3-4e4c898b2506 button.colab-df-convert');\n",
              "      buttonEl.style.display =\n",
              "        google.colab.kernel.accessAllowed ? 'block' : 'none';\n",
              "\n",
              "      async function convertToInteractive(key) {\n",
              "        const element = document.querySelector('#df-48bae453-8dbb-4007-b6d3-4e4c898b2506');\n",
              "        const dataTable =\n",
              "          await google.colab.kernel.invokeFunction('convertToInteractive',\n",
              "                                                    [key], {});\n",
              "        if (!dataTable) return;\n",
              "\n",
              "        const docLinkHtml = 'Like what you see? Visit the ' +\n",
              "          '<a target=\"_blank\" href=https://colab.research.google.com/notebooks/data_table.ipynb>data table notebook</a>'\n",
              "          + ' to learn more about interactive tables.';\n",
              "        element.innerHTML = '';\n",
              "        dataTable['output_type'] = 'display_data';\n",
              "        await google.colab.output.renderOutput(dataTable, element);\n",
              "        const docLink = document.createElement('div');\n",
              "        docLink.innerHTML = docLinkHtml;\n",
              "        element.appendChild(docLink);\n",
              "      }\n",
              "    </script>\n",
              "  </div>\n",
              "\n",
              "\n",
              "<div id=\"df-e5d6396c-d106-46d9-b1bd-a195bc30c8c5\">\n",
              "  <button class=\"colab-df-quickchart\" onclick=\"quickchart('df-e5d6396c-d106-46d9-b1bd-a195bc30c8c5')\"\n",
              "            title=\"Suggest charts\"\n",
              "            style=\"display:none;\">\n",
              "\n",
              "<svg xmlns=\"http://www.w3.org/2000/svg\" height=\"24px\"viewBox=\"0 0 24 24\"\n",
              "     width=\"24px\">\n",
              "    <g>\n",
              "        <path d=\"M19 3H5c-1.1 0-2 .9-2 2v14c0 1.1.9 2 2 2h14c1.1 0 2-.9 2-2V5c0-1.1-.9-2-2-2zM9 17H7v-7h2v7zm4 0h-2V7h2v10zm4 0h-2v-4h2v4z\"/>\n",
              "    </g>\n",
              "</svg>\n",
              "  </button>\n",
              "\n",
              "<style>\n",
              "  .colab-df-quickchart {\n",
              "      --bg-color: #E8F0FE;\n",
              "      --fill-color: #1967D2;\n",
              "      --hover-bg-color: #E2EBFA;\n",
              "      --hover-fill-color: #174EA6;\n",
              "      --disabled-fill-color: #AAA;\n",
              "      --disabled-bg-color: #DDD;\n",
              "  }\n",
              "\n",
              "  [theme=dark] .colab-df-quickchart {\n",
              "      --bg-color: #3B4455;\n",
              "      --fill-color: #D2E3FC;\n",
              "      --hover-bg-color: #434B5C;\n",
              "      --hover-fill-color: #FFFFFF;\n",
              "      --disabled-bg-color: #3B4455;\n",
              "      --disabled-fill-color: #666;\n",
              "  }\n",
              "\n",
              "  .colab-df-quickchart {\n",
              "    background-color: var(--bg-color);\n",
              "    border: none;\n",
              "    border-radius: 50%;\n",
              "    cursor: pointer;\n",
              "    display: none;\n",
              "    fill: var(--fill-color);\n",
              "    height: 32px;\n",
              "    padding: 0;\n",
              "    width: 32px;\n",
              "  }\n",
              "\n",
              "  .colab-df-quickchart:hover {\n",
              "    background-color: var(--hover-bg-color);\n",
              "    box-shadow: 0 1px 2px rgba(60, 64, 67, 0.3), 0 1px 3px 1px rgba(60, 64, 67, 0.15);\n",
              "    fill: var(--button-hover-fill-color);\n",
              "  }\n",
              "\n",
              "  .colab-df-quickchart-complete:disabled,\n",
              "  .colab-df-quickchart-complete:disabled:hover {\n",
              "    background-color: var(--disabled-bg-color);\n",
              "    fill: var(--disabled-fill-color);\n",
              "    box-shadow: none;\n",
              "  }\n",
              "\n",
              "  .colab-df-spinner {\n",
              "    border: 2px solid var(--fill-color);\n",
              "    border-color: transparent;\n",
              "    border-bottom-color: var(--fill-color);\n",
              "    animation:\n",
              "      spin 1s steps(1) infinite;\n",
              "  }\n",
              "\n",
              "  @keyframes spin {\n",
              "    0% {\n",
              "      border-color: transparent;\n",
              "      border-bottom-color: var(--fill-color);\n",
              "      border-left-color: var(--fill-color);\n",
              "    }\n",
              "    20% {\n",
              "      border-color: transparent;\n",
              "      border-left-color: var(--fill-color);\n",
              "      border-top-color: var(--fill-color);\n",
              "    }\n",
              "    30% {\n",
              "      border-color: transparent;\n",
              "      border-left-color: var(--fill-color);\n",
              "      border-top-color: var(--fill-color);\n",
              "      border-right-color: var(--fill-color);\n",
              "    }\n",
              "    40% {\n",
              "      border-color: transparent;\n",
              "      border-right-color: var(--fill-color);\n",
              "      border-top-color: var(--fill-color);\n",
              "    }\n",
              "    60% {\n",
              "      border-color: transparent;\n",
              "      border-right-color: var(--fill-color);\n",
              "    }\n",
              "    80% {\n",
              "      border-color: transparent;\n",
              "      border-right-color: var(--fill-color);\n",
              "      border-bottom-color: var(--fill-color);\n",
              "    }\n",
              "    90% {\n",
              "      border-color: transparent;\n",
              "      border-bottom-color: var(--fill-color);\n",
              "    }\n",
              "  }\n",
              "</style>\n",
              "\n",
              "  <script>\n",
              "    async function quickchart(key) {\n",
              "      const quickchartButtonEl =\n",
              "        document.querySelector('#' + key + ' button');\n",
              "      quickchartButtonEl.disabled = true;  // To prevent multiple clicks.\n",
              "      quickchartButtonEl.classList.add('colab-df-spinner');\n",
              "      try {\n",
              "        const charts = await google.colab.kernel.invokeFunction(\n",
              "            'suggestCharts', [key], {});\n",
              "      } catch (error) {\n",
              "        console.error('Error during call to suggestCharts:', error);\n",
              "      }\n",
              "      quickchartButtonEl.classList.remove('colab-df-spinner');\n",
              "      quickchartButtonEl.classList.add('colab-df-quickchart-complete');\n",
              "    }\n",
              "    (() => {\n",
              "      let quickchartButtonEl =\n",
              "        document.querySelector('#df-e5d6396c-d106-46d9-b1bd-a195bc30c8c5 button');\n",
              "      quickchartButtonEl.style.display =\n",
              "        google.colab.kernel.accessAllowed ? 'block' : 'none';\n",
              "    })();\n",
              "  </script>\n",
              "</div>\n",
              "\n",
              "    </div>\n",
              "  </div>\n"
            ],
            "text/plain": [
              "                                                   organ_tissue     method  \\\n",
              "AAACCCACACTCCTGT_TSP6_Liver_NA_10X_1_1                    Liver        10X   \n",
              "AAACGAAGTACCAGAG_TSP6_Liver_NA_10X_1_1                    Liver        10X   \n",
              "AAACGCTCAACGGCTC_TSP6_Liver_NA_10X_1_1                    Liver        10X   \n",
              "AAAGAACAGCCTCTTC_TSP6_Liver_NA_10X_1_1                    Liver        10X   \n",
              "AAAGAACGTAGCACAG_TSP6_Liver_NA_10X_1_1                    Liver        10X   \n",
              "...                                                         ...        ...   \n",
              "TSP2_Vasculature_aorta_SS2_B114577_B133059_Endo...  Vasculature  smartseq2   \n",
              "TSP2_Vasculature_aorta_SS2_B114577_B133059_Endo...  Vasculature  smartseq2   \n",
              "TSP2_Vasculature_aorta_SS2_B114577_B133059_Endo...  Vasculature  smartseq2   \n",
              "TSP2_Vasculature_aorta_SS2_B114577_B133059_Endo...  Vasculature  smartseq2   \n",
              "TSP2_Vasculature_aorta_SS2_B114577_B133059_Endo...  Vasculature  smartseq2   \n",
              "\n",
              "                                                   donor  \\\n",
              "AAACCCACACTCCTGT_TSP6_Liver_NA_10X_1_1              TSP6   \n",
              "AAACGAAGTACCAGAG_TSP6_Liver_NA_10X_1_1              TSP6   \n",
              "AAACGCTCAACGGCTC_TSP6_Liver_NA_10X_1_1              TSP6   \n",
              "AAAGAACAGCCTCTTC_TSP6_Liver_NA_10X_1_1              TSP6   \n",
              "AAAGAACGTAGCACAG_TSP6_Liver_NA_10X_1_1              TSP6   \n",
              "...                                                  ...   \n",
              "TSP2_Vasculature_aorta_SS2_B114577_B133059_Endo...  TSP2   \n",
              "TSP2_Vasculature_aorta_SS2_B114577_B133059_Endo...  TSP2   \n",
              "TSP2_Vasculature_aorta_SS2_B114577_B133059_Endo...  TSP2   \n",
              "TSP2_Vasculature_aorta_SS2_B114577_B133059_Endo...  TSP2   \n",
              "TSP2_Vasculature_aorta_SS2_B114577_B133059_Endo...  TSP2   \n",
              "\n",
              "                                                   anatomical_information  \\\n",
              "AAACCCACACTCCTGT_TSP6_Liver_NA_10X_1_1                                nan   \n",
              "AAACGAAGTACCAGAG_TSP6_Liver_NA_10X_1_1                                nan   \n",
              "AAACGCTCAACGGCTC_TSP6_Liver_NA_10X_1_1                                nan   \n",
              "AAAGAACAGCCTCTTC_TSP6_Liver_NA_10X_1_1                                nan   \n",
              "AAAGAACGTAGCACAG_TSP6_Liver_NA_10X_1_1                                nan   \n",
              "...                                                                   ...   \n",
              "TSP2_Vasculature_aorta_SS2_B114577_B133059_Endo...                  aorta   \n",
              "TSP2_Vasculature_aorta_SS2_B114577_B133059_Endo...                  aorta   \n",
              "TSP2_Vasculature_aorta_SS2_B114577_B133059_Endo...                  aorta   \n",
              "TSP2_Vasculature_aorta_SS2_B114577_B133059_Endo...                  aorta   \n",
              "TSP2_Vasculature_aorta_SS2_B114577_B133059_Endo...                  aorta   \n",
              "\n",
              "                                                    n_counts_UMIs  n_genes  \\\n",
              "AAACCCACACTCCTGT_TSP6_Liver_NA_10X_1_1                     7633.0     2259   \n",
              "AAACGAAGTACCAGAG_TSP6_Liver_NA_10X_1_1                     2858.0     1152   \n",
              "AAACGCTCAACGGCTC_TSP6_Liver_NA_10X_1_1                     7787.0     2983   \n",
              "AAAGAACAGCCTCTTC_TSP6_Liver_NA_10X_1_1                    10395.0     2598   \n",
              "AAAGAACGTAGCACAG_TSP6_Liver_NA_10X_1_1                     6610.0     2125   \n",
              "...                                                           ...      ...   \n",
              "TSP2_Vasculature_aorta_SS2_B114577_B133059_Endo...        13205.0      579   \n",
              "TSP2_Vasculature_aorta_SS2_B114577_B133059_Endo...         9565.0      529   \n",
              "TSP2_Vasculature_aorta_SS2_B114577_B133059_Endo...       195639.0     2753   \n",
              "TSP2_Vasculature_aorta_SS2_B114577_B133059_Endo...        37260.0      984   \n",
              "TSP2_Vasculature_aorta_SS2_B114577_B133059_Endo...        63837.0     1509   \n",
              "\n",
              "                                                                     cell_ontology_class  \\\n",
              "AAACCCACACTCCTGT_TSP6_Liver_NA_10X_1_1                                        macrophage   \n",
              "AAACGAAGTACCAGAG_TSP6_Liver_NA_10X_1_1                                          monocyte   \n",
              "AAACGCTCAACGGCTC_TSP6_Liver_NA_10X_1_1              endothelial cell of hepatic sinusoid   \n",
              "AAAGAACAGCCTCTTC_TSP6_Liver_NA_10X_1_1                                        macrophage   \n",
              "AAAGAACGTAGCACAG_TSP6_Liver_NA_10X_1_1                              liver dendritic cell   \n",
              "...                                                                                  ...   \n",
              "TSP2_Vasculature_aorta_SS2_B114577_B133059_Endo...                      endothelial cell   \n",
              "TSP2_Vasculature_aorta_SS2_B114577_B133059_Endo...                      endothelial cell   \n",
              "TSP2_Vasculature_aorta_SS2_B114577_B133059_Endo...                      endothelial cell   \n",
              "TSP2_Vasculature_aorta_SS2_B114577_B133059_Endo...                      endothelial cell   \n",
              "TSP2_Vasculature_aorta_SS2_B114577_B133059_Endo...                      endothelial cell   \n",
              "\n",
              "                                                        free_annotation  \\\n",
              "AAACCCACACTCCTGT_TSP6_Liver_NA_10X_1_1              Monocyte/Macrophage   \n",
              "AAACGAAGTACCAGAG_TSP6_Liver_NA_10X_1_1                         Monocyte   \n",
              "AAACGCTCAACGGCTC_TSP6_Liver_NA_10X_1_1                      Endothelial   \n",
              "AAAGAACAGCCTCTTC_TSP6_Liver_NA_10X_1_1              Monocyte/Macrophage   \n",
              "AAAGAACGTAGCACAG_TSP6_Liver_NA_10X_1_1                   Dendritic cell   \n",
              "...                                                                 ...   \n",
              "TSP2_Vasculature_aorta_SS2_B114577_B133059_Endo...     endothelial cell   \n",
              "TSP2_Vasculature_aorta_SS2_B114577_B133059_Endo...     endothelial cell   \n",
              "TSP2_Vasculature_aorta_SS2_B114577_B133059_Endo...     endothelial cell   \n",
              "TSP2_Vasculature_aorta_SS2_B114577_B133059_Endo...     endothelial cell   \n",
              "TSP2_Vasculature_aorta_SS2_B114577_B133059_Endo...     endothelial cell   \n",
              "\n",
              "                                                    manually_annotated  \\\n",
              "AAACCCACACTCCTGT_TSP6_Liver_NA_10X_1_1                            True   \n",
              "AAACGAAGTACCAGAG_TSP6_Liver_NA_10X_1_1                            True   \n",
              "AAACGCTCAACGGCTC_TSP6_Liver_NA_10X_1_1                            True   \n",
              "AAAGAACAGCCTCTTC_TSP6_Liver_NA_10X_1_1                            True   \n",
              "AAAGAACGTAGCACAG_TSP6_Liver_NA_10X_1_1                            True   \n",
              "...                                                                ...   \n",
              "TSP2_Vasculature_aorta_SS2_B114577_B133059_Endo...                True   \n",
              "TSP2_Vasculature_aorta_SS2_B114577_B133059_Endo...                True   \n",
              "TSP2_Vasculature_aorta_SS2_B114577_B133059_Endo...                True   \n",
              "TSP2_Vasculature_aorta_SS2_B114577_B133059_Endo...                True   \n",
              "TSP2_Vasculature_aorta_SS2_B114577_B133059_Endo...                True   \n",
              "\n",
              "                                                    compartment  gender  \n",
              "AAACCCACACTCCTGT_TSP6_Liver_NA_10X_1_1                   immune    male  \n",
              "AAACGAAGTACCAGAG_TSP6_Liver_NA_10X_1_1                   immune    male  \n",
              "AAACGCTCAACGGCTC_TSP6_Liver_NA_10X_1_1              endothelial    male  \n",
              "AAAGAACAGCCTCTTC_TSP6_Liver_NA_10X_1_1                   immune    male  \n",
              "AAAGAACGTAGCACAG_TSP6_Liver_NA_10X_1_1                   immune    male  \n",
              "...                                                         ...     ...  \n",
              "TSP2_Vasculature_aorta_SS2_B114577_B133059_Endo...  endothelial  female  \n",
              "TSP2_Vasculature_aorta_SS2_B114577_B133059_Endo...  endothelial  female  \n",
              "TSP2_Vasculature_aorta_SS2_B114577_B133059_Endo...  endothelial  female  \n",
              "TSP2_Vasculature_aorta_SS2_B114577_B133059_Endo...  endothelial  female  \n",
              "TSP2_Vasculature_aorta_SS2_B114577_B133059_Endo...  endothelial  female  \n",
              "\n",
              "[483152 rows x 11 columns]"
            ]
          },
          "execution_count": 9,
          "metadata": {},
          "output_type": "execute_result"
        }
      ],
      "source": [
        "adata.obs"
      ]
    },
    {
      "cell_type": "code",
      "execution_count": null,
      "metadata": {
        "colab": {
          "base_uri": "https://localhost:8080/"
        },
        "id": "ukUjtwPglXoH",
        "outputId": "57c4671b-63f2-48a1-f88c-69d632ab8261"
      },
      "outputs": [
        {
          "name": "stdout",
          "output_type": "stream",
          "text": [
            "Number of 'mesenchymal stem cell' rows: 15459\n"
          ]
        }
      ],
      "source": [
        "# CHECK FOR MSC\n",
        "is_msc = adata.obs['cell_ontology_class'].str.contains('mesenchymal stem cell', case=False, na=False)\n",
        "msc_count= is_msc.sum()\n",
        "print(f\"Number of 'mesenchymal stem cell' rows: {msc_count}\")\n",
        "msc_rows = adata.obs[is_msc]"
      ]
    },
    {
      "cell_type": "code",
      "execution_count": null,
      "metadata": {
        "colab": {
          "base_uri": "https://localhost:8080/"
        },
        "id": "12ALPx3Ilcy9",
        "outputId": "40ee0c08-b9fe-450e-894c-459676e8ae77"
      },
      "outputs": [
        {
          "data": {
            "text/plain": [
              "array(['immune', 'stromal'], dtype=object)"
            ]
          },
          "execution_count": 11,
          "metadata": {},
          "output_type": "execute_result"
        }
      ],
      "source": [
        "np.unique(msc_rows['compartment'])"
      ]
    },
    {
      "cell_type": "code",
      "execution_count": null,
      "metadata": {
        "colab": {
          "base_uri": "https://localhost:8080/"
        },
        "id": "1HhhOnN_maOq",
        "outputId": "c1de99ce-df35-4789-9b32-c627955f8817"
      },
      "outputs": [
        {
          "name": "stdout",
          "output_type": "stream",
          "text": [
            "                                  cell_ontology_class  number_of_rows\n",
            "0                                          macrophage           35204\n",
            "1                                          fibroblast           31999\n",
            "2                                              b cell           19807\n",
            "3                                       memory b cell           15676\n",
            "4                               mesenchymal stem cell           15459\n",
            "5                                          neutrophil           14890\n",
            "6                                              t cell           14682\n",
            "7                                          basal cell           14065\n",
            "8                     cd4-positive, alpha-beta t cell           14051\n",
            "9                                  classical monocyte           13387\n",
            "10                                   endothelial cell           13184\n",
            "11                                           monocyte           12514\n",
            "12                    cd8-positive, alpha-beta t cell           12192\n",
            "13                                        plasma cell           11545\n",
            "14                                        erythrocyte           11004\n",
            "15                      acinar cell of salivary gland           10147\n",
            "16                                 type ii pneumocyte            9146\n",
            "17                         cd4-positive helper t cell            9072\n",
            "18                                    epithelial cell            8951\n",
            "19                                            nk cell            8856\n",
            "20                             kidney epithelial cell            8331\n",
            "21                                cardiac muscle cell            7205\n",
            "22                     cd4-positive alpha-beta t cell            7040\n",
            "23                                       naive b cell            6761\n",
            "24             cd8-positive, alpha-beta memory t cell            6022\n",
            "25                     cd8-positive alpha-beta t cell            5940\n",
            "26                             pancreatic acinar cell            5534\n",
            "27           luminal epithelial cell of mammary gland            5378\n",
            "28                                   type i nk t cell            5314\n",
            "29                               innate lymphoid cell            5131\n",
            "30                skeletal muscle satellite stem cell            4831\n",
            "31                       conjunctival epithelial cell            4587\n",
            "32                                      pericyte cell            4539\n",
            "33                         capillary endothelial cell            4520\n",
            "34             cd4-positive, alpha-beta memory t cell            4493\n",
            "35                            bladder urothelial cell            4151\n",
            "36                                 smooth muscle cell            4080\n",
            "37                                       keratinocyte            3667\n",
            "38                  endothelial cell of vascular tree            3602\n",
            "39                              vein endothelial cell            3379\n",
            "40                  basal cell of prostate epithelium            3298\n",
            "41  naive thymus-derived cd4-positive, alpha-beta ...            3243\n",
            "42                                       stromal cell            3086\n",
            "43                                 myofibroblast cell            3070\n",
            "44        enterocyte of epithelium of large intestine            2764\n",
            "45             vascular associated smooth muscle cell            2671\n",
            "46                           cardiac endothelial cell            2665\n",
            "47                                         hepatocyte            2647\n",
            "48                             pancreatic ductal cell            2431\n",
            "49                                    cd24 neutrophil            2340\n"
          ]
        }
      ],
      "source": [
        "unique_classes_counts = adata.obs['cell_ontology_class'].value_counts()\n",
        "CO_rows_df = unique_classes_counts.reset_index()\n",
        "CO_rows_df.columns = ['cell_ontology_class', 'number_of_rows']\n",
        "print(CO_rows_df.head(50))"
      ]
    },
    {
      "cell_type": "markdown",
      "metadata": {
        "id": "dTzkTLjxc96v"
      },
      "source": [
        "## Pseudotime diffusion maps"
      ]
    },
    {
      "cell_type": "code",
      "execution_count": null,
      "metadata": {
        "colab": {
          "base_uri": "https://localhost:8080/"
        },
        "id": "zkkYT7G7dR5K",
        "outputId": "014e6638-d542-40bc-c4c3-6a7eec8bd4fd"
      },
      "outputs": [
        {
          "name": "stdout",
          "output_type": "stream",
          "text": [
            "Collecting scanpy\n",
            "  Downloading scanpy-1.10.1-py3-none-any.whl (2.1 MB)\n",
            "\u001b[2K     \u001b[90m━━━━━━━━━━━━━━━━━━━━━━━━━━━━━━━━━━━━━━━━\u001b[0m \u001b[32m2.1/2.1 MB\u001b[0m \u001b[31m12.6 MB/s\u001b[0m eta \u001b[36m0:00:00\u001b[0m\n",
            "\u001b[?25hRequirement already satisfied: anndata>=0.8 in /usr/local/lib/python3.10/dist-packages (from scanpy) (0.10.7)\n",
            "Requirement already satisfied: h5py>=3.1 in /usr/local/lib/python3.10/dist-packages (from scanpy) (3.9.0)\n",
            "Requirement already satisfied: joblib in /usr/local/lib/python3.10/dist-packages (from scanpy) (1.4.2)\n",
            "Collecting legacy-api-wrap>=1.4 (from scanpy)\n",
            "  Downloading legacy_api_wrap-1.4-py3-none-any.whl (15 kB)\n",
            "Requirement already satisfied: matplotlib>=3.6 in /usr/local/lib/python3.10/dist-packages (from scanpy) (3.7.1)\n",
            "Requirement already satisfied: natsort in /usr/local/lib/python3.10/dist-packages (from scanpy) (8.4.0)\n",
            "Requirement already satisfied: networkx>=2.7 in /usr/local/lib/python3.10/dist-packages (from scanpy) (3.3)\n",
            "Requirement already satisfied: numba>=0.56 in /usr/local/lib/python3.10/dist-packages (from scanpy) (0.58.1)\n",
            "Requirement already satisfied: numpy>=1.23 in /usr/local/lib/python3.10/dist-packages (from scanpy) (1.25.2)\n",
            "Requirement already satisfied: packaging>=21.3 in /usr/local/lib/python3.10/dist-packages (from scanpy) (24.0)\n",
            "Requirement already satisfied: pandas>=1.5 in /usr/local/lib/python3.10/dist-packages (from scanpy) (2.0.3)\n",
            "Requirement already satisfied: patsy in /usr/local/lib/python3.10/dist-packages (from scanpy) (0.5.6)\n",
            "Collecting pynndescent>=0.5 (from scanpy)\n",
            "  Downloading pynndescent-0.5.12-py3-none-any.whl (56 kB)\n",
            "\u001b[2K     \u001b[90m━━━━━━━━━━━━━━━━━━━━━━━━━━━━━━━━━━━━━━━━\u001b[0m \u001b[32m56.8/56.8 kB\u001b[0m \u001b[31m8.2 MB/s\u001b[0m eta \u001b[36m0:00:00\u001b[0m\n",
            "\u001b[?25hRequirement already satisfied: scikit-learn>=0.24 in /usr/local/lib/python3.10/dist-packages (from scanpy) (1.2.2)\n",
            "Requirement already satisfied: scipy>=1.8 in /usr/local/lib/python3.10/dist-packages (from scanpy) (1.11.4)\n",
            "Requirement already satisfied: seaborn>=0.13 in /usr/local/lib/python3.10/dist-packages (from scanpy) (0.13.1)\n",
            "Collecting session-info (from scanpy)\n",
            "  Downloading session_info-1.0.0.tar.gz (24 kB)\n",
            "  Preparing metadata (setup.py) ... \u001b[?25l\u001b[?25hdone\n",
            "Requirement already satisfied: statsmodels>=0.13 in /usr/local/lib/python3.10/dist-packages (from scanpy) (0.14.2)\n",
            "Requirement already satisfied: tqdm in /usr/local/lib/python3.10/dist-packages (from scanpy) (4.66.4)\n",
            "Collecting umap-learn!=0.5.0,>=0.5 (from scanpy)\n",
            "  Downloading umap_learn-0.5.6-py3-none-any.whl (85 kB)\n",
            "\u001b[2K     \u001b[90m━━━━━━━━━━━━━━━━━━━━━━━━━━━━━━━━━━━━━━━━\u001b[0m \u001b[32m85.7/85.7 kB\u001b[0m \u001b[31m13.3 MB/s\u001b[0m eta \u001b[36m0:00:00\u001b[0m\n",
            "\u001b[?25hRequirement already satisfied: array-api-compat!=1.5,>1.4 in /usr/local/lib/python3.10/dist-packages (from anndata>=0.8->scanpy) (1.6)\n",
            "Requirement already satisfied: exceptiongroup in /usr/local/lib/python3.10/dist-packages (from anndata>=0.8->scanpy) (1.2.1)\n",
            "Requirement already satisfied: contourpy>=1.0.1 in /usr/local/lib/python3.10/dist-packages (from matplotlib>=3.6->scanpy) (1.2.1)\n",
            "Requirement already satisfied: cycler>=0.10 in /usr/local/lib/python3.10/dist-packages (from matplotlib>=3.6->scanpy) (0.12.1)\n",
            "Requirement already satisfied: fonttools>=4.22.0 in /usr/local/lib/python3.10/dist-packages (from matplotlib>=3.6->scanpy) (4.51.0)\n",
            "Requirement already satisfied: kiwisolver>=1.0.1 in /usr/local/lib/python3.10/dist-packages (from matplotlib>=3.6->scanpy) (1.4.5)\n",
            "Requirement already satisfied: pillow>=6.2.0 in /usr/local/lib/python3.10/dist-packages (from matplotlib>=3.6->scanpy) (9.4.0)\n",
            "Requirement already satisfied: pyparsing>=2.3.1 in /usr/local/lib/python3.10/dist-packages (from matplotlib>=3.6->scanpy) (3.1.2)\n",
            "Requirement already satisfied: python-dateutil>=2.7 in /usr/local/lib/python3.10/dist-packages (from matplotlib>=3.6->scanpy) (2.8.2)\n",
            "Requirement already satisfied: llvmlite<0.42,>=0.41.0dev0 in /usr/local/lib/python3.10/dist-packages (from numba>=0.56->scanpy) (0.41.1)\n",
            "Requirement already satisfied: pytz>=2020.1 in /usr/local/lib/python3.10/dist-packages (from pandas>=1.5->scanpy) (2023.4)\n",
            "Requirement already satisfied: tzdata>=2022.1 in /usr/local/lib/python3.10/dist-packages (from pandas>=1.5->scanpy) (2024.1)\n",
            "Requirement already satisfied: threadpoolctl>=2.0.0 in /usr/local/lib/python3.10/dist-packages (from scikit-learn>=0.24->scanpy) (3.5.0)\n",
            "Requirement already satisfied: six in /usr/local/lib/python3.10/dist-packages (from patsy->scanpy) (1.16.0)\n",
            "Collecting stdlib_list (from session-info->scanpy)\n",
            "  Downloading stdlib_list-0.10.0-py3-none-any.whl (79 kB)\n",
            "\u001b[2K     \u001b[90m━━━━━━━━━━━━━━━━━━━━━━━━━━━━━━━━━━━━━━━━\u001b[0m \u001b[32m79.8/79.8 kB\u001b[0m \u001b[31m11.4 MB/s\u001b[0m eta \u001b[36m0:00:00\u001b[0m\n",
            "\u001b[?25hBuilding wheels for collected packages: session-info\n",
            "  Building wheel for session-info (setup.py) ... \u001b[?25l\u001b[?25hdone\n",
            "  Created wheel for session-info: filename=session_info-1.0.0-py3-none-any.whl size=8026 sha256=982a39fc3feb849e33e448a4bfe589152522337d7b84353ffea46c3aba024848\n",
            "  Stored in directory: /root/.cache/pip/wheels/6a/aa/b9/eb5d4031476ec10802795b97ccf937b9bd998d68a9b268765a\n",
            "Successfully built session-info\n",
            "Installing collected packages: stdlib_list, legacy-api-wrap, session-info, pynndescent, umap-learn, scanpy\n",
            "Successfully installed legacy-api-wrap-1.4 pynndescent-0.5.12 scanpy-1.10.1 session-info-1.0.0 stdlib_list-0.10.0 umap-learn-0.5.6\n"
          ]
        }
      ],
      "source": [
        "!pip install scanpy"
      ]
    },
    {
      "cell_type": "code",
      "execution_count": null,
      "metadata": {
        "colab": {
          "base_uri": "https://localhost:8080/"
        },
        "id": "mDFeN_Vl0Bb6",
        "outputId": "91f5e30d-9068-4ae6-8ac0-eecf34f31d1b"
      },
      "outputs": [
        {
          "name": "stdout",
          "output_type": "stream",
          "text": [
            "Number of 'mesenchymal stem cell' rows: 15459\n",
            "File for macrophage already exists. Skipping...\n",
            "File for monocyte already exists. Skipping...\n",
            "File for endothelial cell of hepatic sinusoid already exists. Skipping...\n",
            "File for liver dendritic cell already exists. Skipping...\n",
            "File for nk cell already exists. Skipping...\n",
            "File for fibroblast already exists. Skipping...\n",
            "File for hepatocyte already exists. Skipping...\n",
            "File for intrahepatic cholangiocyte already exists. Skipping...\n",
            "File for t cell already exists. Skipping...\n",
            "File for neutrophil already exists. Skipping...\n",
            "File for plasma cell already exists. Skipping...\n",
            "File for tracheal goblet cell already exists. Skipping...\n",
            "File for endothelial cell already exists. Skipping...\n",
            "File for smooth muscle cell already exists. Skipping...\n",
            "File for ciliated cell already exists. Skipping...\n",
            "File for ionocyte already exists. Skipping...\n",
            "File for secretory cell already exists. Skipping...\n",
            "File for basal cell already exists. Skipping...\n",
            "File for mast cell already exists. Skipping...\n",
            "File for mucus secreting cell already exists. Skipping...\n",
            "File for cd8-positive, alpha-beta t cell already exists. Skipping...\n",
            "File for serous cell of epithelium of trachea already exists. Skipping...\n",
            "File for b cell already exists. Skipping...\n",
            "File for cd4-positive, alpha-beta t cell already exists. Skipping...\n",
            "File for double-positive, alpha-beta thymocyte already exists. Skipping...\n",
            "File for erythrocyte already exists. Skipping...\n",
            "File for cd4-positive, alpha-beta memory t cell already exists. Skipping...\n",
            "File for cd8-positive, alpha-beta cytokine secreting effector t cell already exists. Skipping...\n",
            "File for classical monocyte already exists. Skipping...\n",
            "File for naive b cell already exists. Skipping...\n",
            "File for memory b cell already exists. Skipping...\n",
            "File for type i nk t cell already exists. Skipping...\n",
            "File for cd141-positive myeloid dendritic cell already exists. Skipping...\n",
            "File for platelet already exists. Skipping...\n",
            "File for naive thymus-derived cd4-positive, alpha-beta t cell already exists. Skipping...\n",
            "File for non-classical monocyte already exists. Skipping...\n",
            "File for hematopoietic stem cell already exists. Skipping...\n",
            "File for plasmacytoid dendritic cell already exists. Skipping...\n",
            "File for basophil already exists. Skipping...\n",
            "File for cd8-positive alpha-beta t cell already exists. Skipping...\n",
            "File for cd4-positive alpha-beta t cell already exists. Skipping...\n",
            "File for innate lymphoid cell already exists. Skipping...\n",
            "File for regulatory t cell already exists. Skipping...\n",
            "File for cd1c-positive myeloid dendritic cell already exists. Skipping...\n",
            "File for intermediate monocyte already exists. Skipping...\n",
            "File for stromal cell already exists. Skipping...\n",
            "File for mature conventional dendritic cell already exists. Skipping...\n",
            "File for acinar cell of salivary gland already exists. Skipping...\n",
            "File for cd4-positive helper t cell already exists. Skipping...\n",
            "File for pericyte cell already exists. Skipping...\n",
            "File for endothelial cell of lymphatic vessel already exists. Skipping...\n",
            "File for adventitial cell already exists. Skipping...\n",
            "File for duct epithelial cell already exists. Skipping...\n",
            "File for myoepithelial cell already exists. Skipping...\n",
            "File for cd8-positive, alpha-beta memory t cell already exists. Skipping...\n",
            "File for naive thymus-derived cd8-positive, alpha-beta t cell already exists. Skipping...\n",
            "File for epithelial cell already exists. Skipping...\n",
            "File for immune cell already exists. Skipping...\n",
            "File for vein endothelial cell already exists. Skipping...\n",
            "File for endothelial cell of artery already exists. Skipping...\n",
            "File for capillary endothelial cell already exists. Skipping...\n",
            "File for tongue muscle cell already exists. Skipping...\n",
            "File for keratinocyte already exists. Skipping...\n",
            "File for fibroblast of breast already exists. Skipping...\n",
            "File for luminal epithelial cell of mammary gland already exists. Skipping...\n",
            "File for vascular associated smooth muscle cell already exists. Skipping...\n",
            "File for epithelial cell of uterus already exists. Skipping...\n",
            "File for ciliated epithelial cell already exists. Skipping...\n",
            "File for myometrial cell already exists. Skipping...\n",
            "File for conjunctival epithelial cell already exists. Skipping...\n",
            "File for microglial cell already exists. Skipping...\n",
            "File for eye photoreceptor cell already exists. Skipping...\n",
            "File for muller cell already exists. Skipping...\n",
            "File for limbal stem cell already exists. Skipping...\n",
            "File for retinal blood vessel endothelial cell already exists. Skipping...\n",
            "File for epithelial cell of lacrimal sac already exists. Skipping...\n",
            "File for corneal keratocyte already exists. Skipping...\n",
            "File for retinal pigment epithelial cell already exists. Skipping...\n",
            "File for corneal epithelial cell already exists. Skipping...\n",
            "File for limbal stromal cell already exists. Skipping...\n",
            "File for melanocyte already exists. Skipping...\n",
            "File for retinal bipolar neuron already exists. Skipping...\n",
            "File for dendritic cell already exists. Skipping...\n",
            "File for lacrimal gland functional unit cell already exists. Skipping...\n",
            "File for erythroid lineage cell already exists. Skipping...\n",
            "File for radial glial cell already exists. Skipping...\n",
            "File for ocular surface cell already exists. Skipping...\n",
            "File for retina horizontal cell already exists. Skipping...\n",
            "File for ciliary body already exists. Skipping...\n",
            "File for myofibroblast cell already exists. Skipping...\n",
            "File for leucocyte already exists. Skipping...\n",
            "File for mesenchymal stem cell already exists. Skipping...\n",
            "File for nkt cell already exists. Skipping...\n",
            "File for muscle cell already exists. Skipping...\n",
            "File for cd8-positive, alpha-beta cytotoxic t cell already exists. Skipping...\n",
            "File for langerhans cell already exists. Skipping...\n",
            "File for erythroid progenitor already exists. Skipping...\n",
            "File for granulocyte already exists. Skipping...\n",
            "File for myeloid progenitor already exists. Skipping...\n",
            "File for nampt neutrophil already exists. Skipping...\n",
            "File for cd24 neutrophil already exists. Skipping...\n",
            "File for cardiac endothelial cell already exists. Skipping...\n",
            "File for cardiac muscle cell already exists. Skipping...\n",
            "File for fibroblast of cardiac tissue already exists. Skipping...\n",
            "File for pancreatic acinar cell already exists. Skipping...\n",
            "File for myeloid cell already exists. Skipping...\n",
            "File for pancreatic stellate cell already exists. Skipping...\n",
            "File for pancreatic ductal cell already exists. Skipping...\n",
            "File for pancreatic beta cell already exists. Skipping...\n",
            "File for basal cell of prostate epithelium already exists. Skipping...\n",
            "File for hillock-club cell of prostate epithelium already exists. Skipping...\n",
            "File for cd8b-positive nk t cell already exists. Skipping...\n",
            "File for luminal cell of prostate epithelium already exists. Skipping...\n",
            "File for plasmablast already exists. Skipping...\n",
            "File for endothelial cell of vascular tree already exists. Skipping...\n",
            "File for skeletal muscle satellite stem cell already exists. Skipping...\n",
            "File for tendon cell already exists. Skipping...\n",
            "File for fast muscle cell already exists. Skipping...\n",
            "File for slow muscle cell already exists. Skipping...\n",
            "File for mesothelial cell already exists. Skipping...\n",
            "File for salivary gland cell already exists. Skipping...\n",
            "File for naive regulatory t cell already exists. Skipping...\n",
            "File for t follicular helper cell already exists. Skipping...\n",
            "File for dn4 thymocyte already exists. Skipping...\n",
            "File for medullary thymic epithelial cell already exists. Skipping...\n",
            "File for myeloid dendritic cell already exists. Skipping...\n",
            "File for adipocyte already exists. Skipping...\n",
            "File for retinal ganglion cell already exists. Skipping...\n",
            "File for bladder urothelial cell already exists. Skipping...\n",
            "File for enterocyte of epithelium of large intestine already exists. Skipping...\n",
            "File for large intestine goblet cell already exists. Skipping...\n",
            "File for paneth cell of epithelium of large intestine already exists. Skipping...\n",
            "File for transit amplifying cell of large intestine already exists. Skipping...\n",
            "File for gut endothelial cell already exists. Skipping...\n",
            "File for intestinal crypt stem cell of large intestine already exists. Skipping...\n",
            "File for intestinal enteroendocrine cell already exists. Skipping...\n",
            "File for intestinal tuft cell already exists. Skipping...\n",
            "File for type ii pneumocyte already exists. Skipping...\n",
            "File for bronchial vessel endothelial cell already exists. Skipping...\n",
            "File for respiratory mucous cell already exists. Skipping...\n",
            "File for club cell of prostate epithelium already exists. Skipping...\n",
            "File for hillock cell of prostate epithelium already exists. Skipping...\n",
            "File for sperm already exists. Skipping...\n",
            "File for enterocyte of epithelium of small intestine already exists. Skipping...\n",
            "File for transit amplifying cell of small intestine already exists. Skipping...\n",
            "File for small intestine goblet cell already exists. Skipping...\n",
            "File for paneth cell of epithelium of small intestine already exists. Skipping...\n",
            "File for intestinal crypt stem cell of small intestine already exists. Skipping...\n",
            "File for cell of skeletal muscle already exists. Skipping...\n",
            "File for dn3 thymocyte already exists. Skipping...\n",
            "File for dn1 thymic pro-t cell already exists. Skipping...\n",
            "File for schwann cell already exists. Skipping...\n",
            "File for mature nk t cell already exists. Skipping...\n",
            "File for artery endothelial cell already exists. Skipping...\n",
            "File for lymphatic endothelial cell already exists. Skipping...\n",
            "File for kidney epithelial cell already exists. Skipping...\n",
            "File for immature enterocyte already exists. Skipping...\n",
            "File for intestinal crypt stem cell already exists. Skipping...\n",
            "File for mature enterocyte already exists. Skipping...\n",
            "File for goblet cell already exists. Skipping...\n",
            "File for lung ciliated cell already exists. Skipping...\n",
            "File for respiratory goblet cell already exists. Skipping...\n",
            "File for serous cell of epithelium of bronchus already exists. Skipping...\n",
            "File for capillary aerocyte already exists. Skipping...\n",
            "File for type i pneumocyte already exists. Skipping...\n",
            "File for alveolar fibroblast already exists. Skipping...\n",
            "File for bronchial smooth muscle cell already exists. Skipping...\n",
            "Processing transition from MSCs to club cell...\n",
            "Starting pseudotime analysis...\n"
          ]
        },
        {
          "name": "stderr",
          "output_type": "stream",
          "text": [
            "/usr/local/lib/python3.10/dist-packages/scanpy/preprocessing/_scale.py:299: UserWarning: Received a view of an AnnData. Making a copy.\n",
            "  view_to_actual(adata)\n"
          ]
        },
        {
          "name": "stdout",
          "output_type": "stream",
          "text": [
            "Pseudotime analysis completed.\n",
            "Saved combined AnnData for transition from MSCs to club cell at /content/drive/MyDrive/2024-tf-design-code/combined_adata_folder/combined_adata_club cell.h5ad\n",
            "Processing transition from MSCs to lung microvascular endothelial cell...\n",
            "Starting pseudotime analysis...\n"
          ]
        },
        {
          "name": "stderr",
          "output_type": "stream",
          "text": [
            "/usr/local/lib/python3.10/dist-packages/scanpy/preprocessing/_scale.py:299: UserWarning: Received a view of an AnnData. Making a copy.\n",
            "  view_to_actual(adata)\n"
          ]
        },
        {
          "name": "stdout",
          "output_type": "stream",
          "text": [
            "Pseudotime analysis completed.\n",
            "Saved combined AnnData for transition from MSCs to lung microvascular endothelial cell at /content/drive/MyDrive/2024-tf-design-code/combined_adata_folder/combined_adata_lung microvascular endothelial cell.h5ad\n",
            "Processing transition from MSCs to pulmonary ionocyte...\n",
            "Starting pseudotime analysis...\n"
          ]
        },
        {
          "name": "stderr",
          "output_type": "stream",
          "text": [
            "/usr/local/lib/python3.10/dist-packages/scanpy/preprocessing/_scale.py:299: UserWarning: Received a view of an AnnData. Making a copy.\n",
            "  view_to_actual(adata)\n"
          ]
        },
        {
          "name": "stdout",
          "output_type": "stream",
          "text": [
            "Pseudotime analysis completed.\n",
            "Saved combined AnnData for transition from MSCs to pulmonary ionocyte at /content/drive/MyDrive/2024-tf-design-code/combined_adata_folder/combined_adata_pulmonary ionocyte.h5ad\n",
            "Processing transition from MSCs to pancreatic pp cell...\n",
            "Starting pseudotime analysis...\n"
          ]
        },
        {
          "name": "stderr",
          "output_type": "stream",
          "text": [
            "/usr/local/lib/python3.10/dist-packages/scanpy/preprocessing/_scale.py:299: UserWarning: Received a view of an AnnData. Making a copy.\n",
            "  view_to_actual(adata)\n"
          ]
        },
        {
          "name": "stdout",
          "output_type": "stream",
          "text": [
            "Pseudotime analysis completed.\n",
            "Saved combined AnnData for transition from MSCs to pancreatic pp cell at /content/drive/MyDrive/2024-tf-design-code/combined_adata_folder/combined_adata_pancreatic pp cell.h5ad\n",
            "Processing transition from MSCs to pancreatic alpha cell...\n",
            "Starting pseudotime analysis...\n"
          ]
        },
        {
          "name": "stderr",
          "output_type": "stream",
          "text": [
            "/usr/local/lib/python3.10/dist-packages/scanpy/preprocessing/_scale.py:299: UserWarning: Received a view of an AnnData. Making a copy.\n",
            "  view_to_actual(adata)\n"
          ]
        },
        {
          "name": "stdout",
          "output_type": "stream",
          "text": [
            "Pseudotime analysis completed.\n",
            "Saved combined AnnData for transition from MSCs to pancreatic alpha cell at /content/drive/MyDrive/2024-tf-design-code/combined_adata_folder/combined_adata_pancreatic alpha cell.h5ad\n",
            "Processing transition from MSCs to pancreatic delta cell...\n",
            "Starting pseudotime analysis...\n"
          ]
        },
        {
          "name": "stderr",
          "output_type": "stream",
          "text": [
            "/usr/local/lib/python3.10/dist-packages/scanpy/preprocessing/_scale.py:299: UserWarning: Received a view of an AnnData. Making a copy.\n",
            "  view_to_actual(adata)\n"
          ]
        },
        {
          "name": "stdout",
          "output_type": "stream",
          "text": [
            "Pseudotime analysis completed.\n",
            "Saved combined AnnData for transition from MSCs to pancreatic delta cell at /content/drive/MyDrive/2024-tf-design-code/combined_adata_folder/combined_adata_pancreatic delta cell.h5ad\n",
            "Processing transition from MSCs to duodenum glandular cell...\n",
            "Starting pseudotime analysis...\n"
          ]
        },
        {
          "name": "stderr",
          "output_type": "stream",
          "text": [
            "/usr/local/lib/python3.10/dist-packages/scanpy/preprocessing/_scale.py:299: UserWarning: Received a view of an AnnData. Making a copy.\n",
            "  view_to_actual(adata)\n"
          ]
        },
        {
          "name": "stdout",
          "output_type": "stream",
          "text": [
            "Pseudotime analysis completed.\n",
            "Saved combined AnnData for transition from MSCs to duodenum glandular cell at /content/drive/MyDrive/2024-tf-design-code/combined_adata_folder/combined_adata_duodenum glandular cell.h5ad\n",
            "Processing transition from MSCs to immature natural killer cell...\n",
            "Starting pseudotime analysis...\n"
          ]
        },
        {
          "name": "stderr",
          "output_type": "stream",
          "text": [
            "/usr/local/lib/python3.10/dist-packages/scanpy/preprocessing/_scale.py:299: UserWarning: Received a view of an AnnData. Making a copy.\n",
            "  view_to_actual(adata)\n"
          ]
        },
        {
          "name": "stdout",
          "output_type": "stream",
          "text": [
            "Pseudotime analysis completed.\n",
            "Saved combined AnnData for transition from MSCs to immature natural killer cell at /content/drive/MyDrive/2024-tf-design-code/combined_adata_folder/combined_adata_immature natural killer cell.h5ad\n",
            "Processing transition from MSCs to thymocyte...\n",
            "Starting pseudotime analysis...\n"
          ]
        },
        {
          "name": "stderr",
          "output_type": "stream",
          "text": [
            "/usr/local/lib/python3.10/dist-packages/scanpy/preprocessing/_scale.py:299: UserWarning: Received a view of an AnnData. Making a copy.\n",
            "  view_to_actual(adata)\n"
          ]
        },
        {
          "name": "stdout",
          "output_type": "stream",
          "text": [
            "Pseudotime analysis completed.\n",
            "Saved combined AnnData for transition from MSCs to thymocyte at /content/drive/MyDrive/2024-tf-design-code/combined_adata_folder/combined_adata_thymocyte.h5ad\n",
            "Processing transition from MSCs to connective tissue cell...\n",
            "Starting pseudotime analysis...\n"
          ]
        },
        {
          "name": "stderr",
          "output_type": "stream",
          "text": [
            "/usr/local/lib/python3.10/dist-packages/scanpy/preprocessing/_scale.py:299: UserWarning: Received a view of an AnnData. Making a copy.\n",
            "  view_to_actual(adata)\n"
          ]
        },
        {
          "name": "stdout",
          "output_type": "stream",
          "text": [
            "Pseudotime analysis completed.\n",
            "Saved combined AnnData for transition from MSCs to connective tissue cell at /content/drive/MyDrive/2024-tf-design-code/combined_adata_folder/combined_adata_connective tissue cell.h5ad\n",
            "All pseudotime analyses completed and saved.\n"
          ]
        }
      ],
      "source": [
        "import scanpy as sc\n",
        "import anndata\n",
        "import pandas as pd\n",
        "import os\n",
        "import pickle\n",
        "\n",
        "# Identify MSCs\n",
        "is_msc = adata.obs['cell_ontology_class'].str.contains('mesenchymal stem cell', case=False, na=False)\n",
        "msc_rows = adata[is_msc]\n",
        "msc_count = is_msc.sum()\n",
        "print(f\"Number of 'mesenchymal stem cell' rows: {msc_count}\")\n",
        "\n",
        "# Define pseudotime analysis function using scanpy\n",
        "def perform_pseudotime_analysis(adata):\n",
        "    print(\"Starting pseudotime analysis...\")\n",
        "    sc.pp.normalize_total(adata, target_sum=1e4)  # Normalize total counts\n",
        "    sc.pp.log1p(adata)  # Logarithmize the data\n",
        "    sc.pp.highly_variable_genes(adata)  # Select highly variable genes\n",
        "    adata = adata[:, adata.var.highly_variable]\n",
        "    sc.pp.scale(adata)  # Scale the data\n",
        "    sc.tl.pca(adata)  # PCA\n",
        "    sc.pp.neighbors(adata, n_pcs=30, n_neighbors=30)  # Compute neighbors\n",
        "\n",
        "    sc.tl.umap(adata)  # Compute UMAP\n",
        "    sc.tl.diffmap(adata)  # Compute Diffusion Map\n",
        "    sc.pp.neighbors(adata, use_rep='X_diffmap')  # Compute neighbors on Diffusion Map\n",
        "\n",
        "    # Set a root cell for pseudotime analysis\n",
        "    root_cell_index = 0  # Set this to an appropriate root cell index\n",
        "    adata.uns['iroot'] = int(root_cell_index)\n",
        "    sc.tl.dpt(adata)  # Compute Diffusion Pseudotime\n",
        "\n",
        "    print(\"Pseudotime analysis completed.\")\n",
        "    return adata\n",
        "\n",
        "# Directory to store the combined AnnData objects\n",
        "output_dir = '/content/drive/MyDrive/2024-tf-design-code/combined_adata_folder/'\n",
        "os.makedirs(output_dir, exist_ok=True)\n",
        "\n",
        "# Dictionary to store combined AnnData objects with pseudotime\n",
        "combined_adatas = {}\n",
        "\n",
        "# Loop through each cell ontology class\n",
        "for class_name in adata.obs['cell_ontology_class'].unique():\n",
        "    combined_adata_file = os.path.join(output_dir, f'combined_adata_{class_name}.h5ad')\n",
        "\n",
        "    # Skip processing if the file already exists\n",
        "    if os.path.exists(combined_adata_file):\n",
        "        print(f\"File for {class_name} already exists. Skipping...\")\n",
        "        continue\n",
        "\n",
        "    print(f\"Processing transition from MSCs to {class_name}...\")\n",
        "\n",
        "    C1 = msc_rows\n",
        "    C2_criteria = adata.obs['cell_ontology_class'] == class_name\n",
        "    C2 = adata[C2_criteria]\n",
        "\n",
        "    if C2.shape[0] == 0:\n",
        "        print(f\"No cells found for class {class_name}. Skipping...\")\n",
        "        continue\n",
        "\n",
        "    combined_adata = anndata.concat([C1, C2])\n",
        "    combined_adata = perform_pseudotime_analysis(combined_adata)\n",
        "    combined_adatas[class_name] = combined_adata\n",
        "\n",
        "    # Save each combined AnnData object to an .h5ad file\n",
        "    combined_adata.write(combined_adata_file)\n",
        "    print(f\"Saved combined AnnData for transition from MSCs to {class_name} at {combined_adata_file}\")\n",
        "\n",
        "# Optionally, save the dictionary of filenames\n",
        "combined_adatas_files = {class_name: os.path.join(output_dir, f'combined_adata_{class_name}.h5ad') for class_name in combined_adatas}\n",
        "with open(os.path.join(output_dir, 'combined_adatas_files.pkl'), 'wb') as f:\n",
        "    pickle.dump(combined_adatas_files, f)\n",
        "\n",
        "print(\"All pseudotime analyses completed and saved.\")\n"
      ]
    },
    {
      "cell_type": "code",
      "execution_count": null,
      "metadata": {
        "colab": {
          "base_uri": "https://localhost:8080/"
        },
        "id": "VemDTd_984od",
        "outputId": "e54043d8-97e8-4397-defc-389c9e7d1faa"
      },
      "outputs": [
        {
          "name": "stdout",
          "output_type": "stream",
          "text": [
            "Number of files in '/content/drive/MyDrive/2024-tf-design-code/combined_adata_folder/': 178\n"
          ]
        }
      ],
      "source": [
        "import os\n",
        "directory = '/content/drive/MyDrive/2024-tf-design-code/combined_adata_folder/'\n",
        "files = os.listdir(directory)\n",
        "file_count = len(files)\n",
        "\n",
        "print(f\"Number of files in '{directory}': {file_count}\")\n"
      ]
    },
    {
      "cell_type": "markdown",
      "metadata": {
        "id": "eT8ny1rGmImG"
      },
      "source": [
        "## Pyscenic grn+enrichment+ranking\n"
      ]
    },
    {
      "cell_type": "code",
      "source": [
        "!apt install python3.10-venv"
      ],
      "metadata": {
        "colab": {
          "base_uri": "https://localhost:8080/"
        },
        "id": "4ZBhz4_bXdrB",
        "outputId": "5ecdaea9-5ed7-4aaa-e5cf-710118a2cc0a"
      },
      "execution_count": 14,
      "outputs": [
        {
          "output_type": "stream",
          "name": "stdout",
          "text": [
            "Reading package lists... Done\n",
            "Building dependency tree... Done\n",
            "Reading state information... Done\n",
            "The following additional packages will be installed:\n",
            "  python3-pip-whl python3-setuptools-whl\n",
            "The following NEW packages will be installed:\n",
            "  python3-pip-whl python3-setuptools-whl python3.10-venv\n",
            "0 upgraded, 3 newly installed, 0 to remove and 0 not upgraded.\n",
            "Need to get 2,473 kB of archives.\n",
            "After this operation, 2,884 kB of additional disk space will be used.\n",
            "Get:1 http://archive.ubuntu.com/ubuntu jammy-updates/universe amd64 python3-pip-whl all 22.0.2+dfsg-1ubuntu0.4 [1,680 kB]\n",
            "Get:2 http://archive.ubuntu.com/ubuntu jammy-updates/universe amd64 python3-setuptools-whl all 59.6.0-1.2ubuntu0.22.04.1 [788 kB]\n",
            "Get:3 http://archive.ubuntu.com/ubuntu jammy-updates/universe amd64 python3.10-venv amd64 3.10.12-1~22.04.5 [5,724 B]\n",
            "Fetched 2,473 kB in 1s (1,901 kB/s)\n",
            "Selecting previously unselected package python3-pip-whl.\n",
            "(Reading database ... 119603 files and directories currently installed.)\n",
            "Preparing to unpack .../python3-pip-whl_22.0.2+dfsg-1ubuntu0.4_all.deb ...\n",
            "Unpacking python3-pip-whl (22.0.2+dfsg-1ubuntu0.4) ...\n",
            "Selecting previously unselected package python3-setuptools-whl.\n",
            "Preparing to unpack .../python3-setuptools-whl_59.6.0-1.2ubuntu0.22.04.1_all.deb ...\n",
            "Unpacking python3-setuptools-whl (59.6.0-1.2ubuntu0.22.04.1) ...\n",
            "Selecting previously unselected package python3.10-venv.\n",
            "Preparing to unpack .../python3.10-venv_3.10.12-1~22.04.5_amd64.deb ...\n",
            "Unpacking python3.10-venv (3.10.12-1~22.04.5) ...\n",
            "Setting up python3-setuptools-whl (59.6.0-1.2ubuntu0.22.04.1) ...\n",
            "Setting up python3-pip-whl (22.0.2+dfsg-1ubuntu0.4) ...\n",
            "Setting up python3.10-venv (3.10.12-1~22.04.5) ...\n"
          ]
        }
      ]
    },
    {
      "cell_type": "code",
      "source": [
        "# !python -m venv pyscenic_env\n",
        "# !source pyscenic_env/bin/activate  # On Windows, use: pyscenic_env\\Scripts\\activate\n",
        "# !pip install pyscenic numpy==1.20.0 pandas scanpy networkx matplotlib seaborn"
      ],
      "metadata": {
        "id": "L7JCmgfeXVtq"
      },
      "execution_count": 17,
      "outputs": []
    },
    {
      "cell_type": "code",
      "execution_count": 18,
      "metadata": {
        "colab": {
          "base_uri": "https://localhost:8080/"
        },
        "id": "4OQp8gDdmK9f",
        "outputId": "af4bfe80-99b8-4c46-f8d5-bafd58ed90fa"
      },
      "outputs": [
        {
          "output_type": "stream",
          "name": "stdout",
          "text": [
            "Requirement already satisfied: anndata in /usr/local/lib/python3.10/dist-packages (0.10.8)\n",
            "Requirement already satisfied: array-api-compat!=1.5,>1.4 in /usr/local/lib/python3.10/dist-packages (from anndata) (1.8)\n",
            "Requirement already satisfied: exceptiongroup in /usr/local/lib/python3.10/dist-packages (from anndata) (1.2.2)\n",
            "Requirement already satisfied: h5py>=3.1 in /usr/local/lib/python3.10/dist-packages (from anndata) (3.11.0)\n",
            "Requirement already satisfied: natsort in /usr/local/lib/python3.10/dist-packages (from anndata) (8.4.0)\n",
            "Requirement already satisfied: numpy>=1.23 in /usr/local/lib/python3.10/dist-packages (from anndata) (1.26.4)\n",
            "Requirement already satisfied: packaging>=20.0 in /usr/local/lib/python3.10/dist-packages (from anndata) (24.1)\n",
            "Requirement already satisfied: pandas!=2.1.0rc0,!=2.1.2,>=1.4 in /usr/local/lib/python3.10/dist-packages (from anndata) (2.1.4)\n",
            "Requirement already satisfied: scipy>1.8 in /usr/local/lib/python3.10/dist-packages (from anndata) (1.13.1)\n",
            "Requirement already satisfied: python-dateutil>=2.8.2 in /usr/local/lib/python3.10/dist-packages (from pandas!=2.1.0rc0,!=2.1.2,>=1.4->anndata) (2.9.0.post0)\n",
            "Requirement already satisfied: pytz>=2020.1 in /usr/local/lib/python3.10/dist-packages (from pandas!=2.1.0rc0,!=2.1.2,>=1.4->anndata) (2024.1)\n",
            "Requirement already satisfied: tzdata>=2022.1 in /usr/local/lib/python3.10/dist-packages (from pandas!=2.1.0rc0,!=2.1.2,>=1.4->anndata) (2024.1)\n",
            "Requirement already satisfied: six>=1.5 in /usr/local/lib/python3.10/dist-packages (from python-dateutil>=2.8.2->pandas!=2.1.0rc0,!=2.1.2,>=1.4->anndata) (1.16.0)\n",
            "Requirement already satisfied: scanpy in /usr/local/lib/python3.10/dist-packages (1.10.2)\n",
            "Requirement already satisfied: anndata>=0.8 in /usr/local/lib/python3.10/dist-packages (from scanpy) (0.10.8)\n",
            "Requirement already satisfied: h5py>=3.1 in /usr/local/lib/python3.10/dist-packages (from scanpy) (3.11.0)\n",
            "Requirement already satisfied: joblib in /usr/local/lib/python3.10/dist-packages (from scanpy) (1.4.2)\n",
            "Requirement already satisfied: legacy-api-wrap>=1.4 in /usr/local/lib/python3.10/dist-packages (from scanpy) (1.4)\n",
            "Requirement already satisfied: matplotlib>=3.6 in /usr/local/lib/python3.10/dist-packages (from scanpy) (3.7.1)\n",
            "Requirement already satisfied: natsort in /usr/local/lib/python3.10/dist-packages (from scanpy) (8.4.0)\n",
            "Requirement already satisfied: networkx>=2.7 in /usr/local/lib/python3.10/dist-packages (from scanpy) (3.3)\n",
            "Requirement already satisfied: numba>=0.56 in /usr/local/lib/python3.10/dist-packages (from scanpy) (0.60.0)\n",
            "Requirement already satisfied: numpy<2,>=1.23 in /usr/local/lib/python3.10/dist-packages (from scanpy) (1.26.4)\n",
            "Requirement already satisfied: packaging>=21.3 in /usr/local/lib/python3.10/dist-packages (from scanpy) (24.1)\n",
            "Requirement already satisfied: pandas>=1.5 in /usr/local/lib/python3.10/dist-packages (from scanpy) (2.1.4)\n",
            "Requirement already satisfied: patsy in /usr/local/lib/python3.10/dist-packages (from scanpy) (0.5.6)\n",
            "Requirement already satisfied: pynndescent>=0.5 in /usr/local/lib/python3.10/dist-packages (from scanpy) (0.5.13)\n",
            "Requirement already satisfied: scikit-learn>=0.24 in /usr/local/lib/python3.10/dist-packages (from scanpy) (1.3.2)\n",
            "Requirement already satisfied: scipy>=1.8 in /usr/local/lib/python3.10/dist-packages (from scanpy) (1.13.1)\n",
            "Requirement already satisfied: seaborn>=0.13 in /usr/local/lib/python3.10/dist-packages (from scanpy) (0.13.1)\n",
            "Requirement already satisfied: session-info in /usr/local/lib/python3.10/dist-packages (from scanpy) (1.0.0)\n",
            "Requirement already satisfied: statsmodels>=0.13 in /usr/local/lib/python3.10/dist-packages (from scanpy) (0.14.2)\n",
            "Requirement already satisfied: tqdm in /usr/local/lib/python3.10/dist-packages (from scanpy) (4.66.4)\n",
            "Requirement already satisfied: umap-learn!=0.5.0,>=0.5 in /usr/local/lib/python3.10/dist-packages (from scanpy) (0.5.6)\n",
            "Requirement already satisfied: array-api-compat!=1.5,>1.4 in /usr/local/lib/python3.10/dist-packages (from anndata>=0.8->scanpy) (1.8)\n",
            "Requirement already satisfied: exceptiongroup in /usr/local/lib/python3.10/dist-packages (from anndata>=0.8->scanpy) (1.2.2)\n",
            "Requirement already satisfied: contourpy>=1.0.1 in /usr/local/lib/python3.10/dist-packages (from matplotlib>=3.6->scanpy) (1.2.1)\n",
            "Requirement already satisfied: cycler>=0.10 in /usr/local/lib/python3.10/dist-packages (from matplotlib>=3.6->scanpy) (0.12.1)\n",
            "Requirement already satisfied: fonttools>=4.22.0 in /usr/local/lib/python3.10/dist-packages (from matplotlib>=3.6->scanpy) (4.53.1)\n",
            "Requirement already satisfied: kiwisolver>=1.0.1 in /usr/local/lib/python3.10/dist-packages (from matplotlib>=3.6->scanpy) (1.4.5)\n",
            "Requirement already satisfied: pillow>=6.2.0 in /usr/local/lib/python3.10/dist-packages (from matplotlib>=3.6->scanpy) (10.4.0)\n",
            "Requirement already satisfied: pyparsing>=2.3.1 in /usr/local/lib/python3.10/dist-packages (from matplotlib>=3.6->scanpy) (3.1.2)\n",
            "Requirement already satisfied: python-dateutil>=2.7 in /usr/local/lib/python3.10/dist-packages (from matplotlib>=3.6->scanpy) (2.9.0.post0)\n",
            "Requirement already satisfied: llvmlite<0.44,>=0.43.0dev0 in /usr/local/lib/python3.10/dist-packages (from numba>=0.56->scanpy) (0.43.0)\n",
            "Requirement already satisfied: pytz>=2020.1 in /usr/local/lib/python3.10/dist-packages (from pandas>=1.5->scanpy) (2024.1)\n",
            "Requirement already satisfied: tzdata>=2022.1 in /usr/local/lib/python3.10/dist-packages (from pandas>=1.5->scanpy) (2024.1)\n",
            "Requirement already satisfied: threadpoolctl>=2.0.0 in /usr/local/lib/python3.10/dist-packages (from scikit-learn>=0.24->scanpy) (3.5.0)\n",
            "Requirement already satisfied: six in /usr/local/lib/python3.10/dist-packages (from patsy->scanpy) (1.16.0)\n",
            "Requirement already satisfied: stdlib-list in /usr/local/lib/python3.10/dist-packages (from session-info->scanpy) (0.10.0)\n",
            "Collecting numpy==1.20.0\n",
            "  Using cached numpy-1.20.0.zip (8.0 MB)\n",
            "  Installing build dependencies ... \u001b[?25l\u001b[?25hdone\n",
            "  Getting requirements to build wheel ... \u001b[?25l\u001b[?25hdone\n",
            "  Preparing metadata (pyproject.toml) ... \u001b[?25l\u001b[?25hdone\n",
            "Building wheels for collected packages: numpy\n",
            "  \u001b[1;31merror\u001b[0m: \u001b[1msubprocess-exited-with-error\u001b[0m\n",
            "  \n",
            "  \u001b[31m×\u001b[0m \u001b[32mBuilding wheel for numpy \u001b[0m\u001b[1;32m(\u001b[0m\u001b[32mpyproject.toml\u001b[0m\u001b[1;32m)\u001b[0m did not run successfully.\n",
            "  \u001b[31m│\u001b[0m exit code: \u001b[1;36m1\u001b[0m\n",
            "  \u001b[31m╰─>\u001b[0m See above for output.\n",
            "  \n",
            "  \u001b[1;35mnote\u001b[0m: This error originates from a subprocess, and is likely not a problem with pip.\n",
            "  Building wheel for numpy (pyproject.toml) ... \u001b[?25l\u001b[?25herror\n",
            "\u001b[31m  ERROR: Failed building wheel for numpy\u001b[0m\u001b[31m\n",
            "\u001b[0mFailed to build numpy\n",
            "\u001b[31mERROR: ERROR: Failed to build installable wheels for some pyproject.toml based projects (numpy)\u001b[0m\u001b[31m\n",
            "\u001b[0m"
          ]
        }
      ],
      "source": [
        "# Downgrade dask-expr to version 0.5.3\n",
        "!pip install anndata\n",
        "!pip install scanpy\n",
        "!pip install numpy==1.20.0\n",
        "import subprocess\n",
        "import pickle\n",
        "import warnings\n",
        "from numba import NumbaWarning  # Import NumbaWarning for suppressing warnings\n",
        "\n",
        "# Suppress Numba warnings for cleaner output\n",
        "warnings.filterwarnings(\"ignore\", category=NumbaWarning)\n",
        "\n",
        "import os\n",
        "import scanpy as sc\n",
        "import pandas as pd\n",
        "import subprocess\n",
        "import pickle\n",
        "import warnings\n",
        "from numba import NumbaWarning  # Import NumbaWarning for suppressing warnings\n",
        "import numpy as np\n",
        "\n",
        "# Suppress Numba warnings for cleaner output\n",
        "warnings.filterwarnings(\"ignore\", category=NumbaWarning)"
      ]
    },
    {
      "cell_type": "code",
      "source": [
        "!pip install pyscenic"
      ],
      "metadata": {
        "colab": {
          "base_uri": "https://localhost:8080/"
        },
        "id": "rMKI4YMwaM-O",
        "outputId": "3f731f2b-c856-42ad-8583-e48f5bca619a"
      },
      "execution_count": 19,
      "outputs": [
        {
          "output_type": "stream",
          "name": "stdout",
          "text": [
            "Requirement already satisfied: pyscenic in /usr/local/lib/python3.10/dist-packages (0.12.1)\n",
            "Requirement already satisfied: ctxcore>=0.2.0 in /usr/local/lib/python3.10/dist-packages (from pyscenic) (0.2.0)\n",
            "Requirement already satisfied: cytoolz in /usr/local/lib/python3.10/dist-packages (from pyscenic) (0.12.3)\n",
            "Requirement already satisfied: multiprocessing-on-dill in /usr/local/lib/python3.10/dist-packages (from pyscenic) (3.5.0a4)\n",
            "Requirement already satisfied: llvmlite in /usr/local/lib/python3.10/dist-packages (from pyscenic) (0.43.0)\n",
            "Requirement already satisfied: numba>=0.51.2 in /usr/local/lib/python3.10/dist-packages (from pyscenic) (0.60.0)\n",
            "Requirement already satisfied: attrs in /usr/local/lib/python3.10/dist-packages (from pyscenic) (23.2.0)\n",
            "Requirement already satisfied: frozendict in /usr/local/lib/python3.10/dist-packages (from pyscenic) (2.4.4)\n",
            "Requirement already satisfied: numpy in /usr/local/lib/python3.10/dist-packages (from pyscenic) (1.26.4)\n",
            "Requirement already satisfied: pandas>=1.3.5 in /usr/local/lib/python3.10/dist-packages (from pyscenic) (2.1.4)\n",
            "Requirement already satisfied: numexpr in /usr/local/lib/python3.10/dist-packages (from pyscenic) (2.10.1)\n",
            "Requirement already satisfied: cloudpickle in /usr/local/lib/python3.10/dist-packages (from pyscenic) (3.0.0)\n",
            "Requirement already satisfied: dask in /usr/local/lib/python3.10/dist-packages (from pyscenic) (2024.7.1)\n",
            "Requirement already satisfied: distributed in /usr/local/lib/python3.10/dist-packages (from pyscenic) (2024.7.1)\n",
            "Requirement already satisfied: arboreto>=0.1.6 in /usr/local/lib/python3.10/dist-packages (from pyscenic) (0.1.6)\n",
            "Requirement already satisfied: boltons in /usr/local/lib/python3.10/dist-packages (from pyscenic) (24.0.0)\n",
            "Requirement already satisfied: setuptools in /usr/local/lib/python3.10/dist-packages (from pyscenic) (71.0.4)\n",
            "Requirement already satisfied: pyyaml in /usr/local/lib/python3.10/dist-packages (from pyscenic) (6.0.1)\n",
            "Requirement already satisfied: tqdm in /usr/local/lib/python3.10/dist-packages (from pyscenic) (4.66.4)\n",
            "Requirement already satisfied: interlap in /usr/local/lib/python3.10/dist-packages (from pyscenic) (0.2.7)\n",
            "Requirement already satisfied: umap-learn in /usr/local/lib/python3.10/dist-packages (from pyscenic) (0.5.6)\n",
            "Requirement already satisfied: loompy in /usr/local/lib/python3.10/dist-packages (from pyscenic) (3.0.7)\n",
            "Requirement already satisfied: networkx in /usr/local/lib/python3.10/dist-packages (from pyscenic) (3.3)\n",
            "Requirement already satisfied: scipy in /usr/local/lib/python3.10/dist-packages (from pyscenic) (1.13.1)\n",
            "Requirement already satisfied: fsspec in /usr/local/lib/python3.10/dist-packages (from pyscenic) (2024.6.1)\n",
            "Requirement already satisfied: requests in /usr/local/lib/python3.10/dist-packages (from pyscenic) (2.31.0)\n",
            "Requirement already satisfied: aiohttp in /usr/local/lib/python3.10/dist-packages (from pyscenic) (3.10.1)\n",
            "Requirement already satisfied: scikit-learn>=0.22.2 in /usr/local/lib/python3.10/dist-packages (from pyscenic) (1.3.2)\n",
            "Requirement already satisfied: pyarrow>=8.0.0 in /usr/local/lib/python3.10/dist-packages (from ctxcore>=0.2.0->pyscenic) (17.0.0)\n",
            "Requirement already satisfied: python-dateutil>=2.8.2 in /usr/local/lib/python3.10/dist-packages (from pandas>=1.3.5->pyscenic) (2.9.0.post0)\n",
            "Requirement already satisfied: pytz>=2020.1 in /usr/local/lib/python3.10/dist-packages (from pandas>=1.3.5->pyscenic) (2024.1)\n",
            "Requirement already satisfied: tzdata>=2022.1 in /usr/local/lib/python3.10/dist-packages (from pandas>=1.3.5->pyscenic) (2024.1)\n",
            "Requirement already satisfied: joblib>=1.1.1 in /usr/local/lib/python3.10/dist-packages (from scikit-learn>=0.22.2->pyscenic) (1.4.2)\n",
            "Requirement already satisfied: threadpoolctl>=2.0.0 in /usr/local/lib/python3.10/dist-packages (from scikit-learn>=0.22.2->pyscenic) (3.5.0)\n",
            "Requirement already satisfied: aiohappyeyeballs>=2.3.0 in /usr/local/lib/python3.10/dist-packages (from aiohttp->pyscenic) (2.3.4)\n",
            "Requirement already satisfied: aiosignal>=1.1.2 in /usr/local/lib/python3.10/dist-packages (from aiohttp->pyscenic) (1.3.1)\n",
            "Requirement already satisfied: frozenlist>=1.1.1 in /usr/local/lib/python3.10/dist-packages (from aiohttp->pyscenic) (1.4.1)\n",
            "Requirement already satisfied: multidict<7.0,>=4.5 in /usr/local/lib/python3.10/dist-packages (from aiohttp->pyscenic) (6.0.5)\n",
            "Requirement already satisfied: yarl<2.0,>=1.0 in /usr/local/lib/python3.10/dist-packages (from aiohttp->pyscenic) (1.9.4)\n",
            "Requirement already satisfied: async-timeout<5.0,>=4.0 in /usr/local/lib/python3.10/dist-packages (from aiohttp->pyscenic) (4.0.3)\n",
            "Requirement already satisfied: toolz>=0.8.0 in /usr/local/lib/python3.10/dist-packages (from cytoolz->pyscenic) (0.12.1)\n",
            "Requirement already satisfied: click>=8.1 in /usr/local/lib/python3.10/dist-packages (from dask->pyscenic) (8.1.7)\n",
            "Requirement already satisfied: packaging>=20.0 in /usr/local/lib/python3.10/dist-packages (from dask->pyscenic) (24.1)\n",
            "Requirement already satisfied: partd>=1.4.0 in /usr/local/lib/python3.10/dist-packages (from dask->pyscenic) (1.4.2)\n",
            "Requirement already satisfied: importlib-metadata>=4.13.0 in /usr/local/lib/python3.10/dist-packages (from dask->pyscenic) (8.2.0)\n",
            "Requirement already satisfied: jinja2>=2.10.3 in /usr/local/lib/python3.10/dist-packages (from distributed->pyscenic) (3.1.4)\n",
            "Requirement already satisfied: locket>=1.0.0 in /usr/local/lib/python3.10/dist-packages (from distributed->pyscenic) (1.0.0)\n",
            "Requirement already satisfied: msgpack>=1.0.0 in /usr/local/lib/python3.10/dist-packages (from distributed->pyscenic) (1.0.8)\n",
            "Requirement already satisfied: psutil>=5.7.2 in /usr/local/lib/python3.10/dist-packages (from distributed->pyscenic) (5.9.5)\n",
            "Requirement already satisfied: sortedcontainers>=2.0.5 in /usr/local/lib/python3.10/dist-packages (from distributed->pyscenic) (2.4.0)\n",
            "Requirement already satisfied: tblib>=1.6.0 in /usr/local/lib/python3.10/dist-packages (from distributed->pyscenic) (3.0.0)\n",
            "Requirement already satisfied: tornado>=6.0.4 in /usr/local/lib/python3.10/dist-packages (from distributed->pyscenic) (6.3.3)\n",
            "Requirement already satisfied: urllib3>=1.24.3 in /usr/local/lib/python3.10/dist-packages (from distributed->pyscenic) (2.0.7)\n",
            "Requirement already satisfied: zict>=3.0.0 in /usr/local/lib/python3.10/dist-packages (from distributed->pyscenic) (3.0.0)\n",
            "Requirement already satisfied: h5py in /usr/local/lib/python3.10/dist-packages (from loompy->pyscenic) (3.11.0)\n",
            "Requirement already satisfied: numpy-groupies in /usr/local/lib/python3.10/dist-packages (from loompy->pyscenic) (0.11.2)\n",
            "Requirement already satisfied: dill in /usr/local/lib/python3.10/dist-packages (from multiprocessing-on-dill->pyscenic) (0.3.8)\n",
            "Requirement already satisfied: charset-normalizer<4,>=2 in /usr/local/lib/python3.10/dist-packages (from requests->pyscenic) (3.3.2)\n",
            "Requirement already satisfied: idna<4,>=2.5 in /usr/local/lib/python3.10/dist-packages (from requests->pyscenic) (3.7)\n",
            "Requirement already satisfied: certifi>=2017.4.17 in /usr/local/lib/python3.10/dist-packages (from requests->pyscenic) (2024.7.4)\n",
            "Requirement already satisfied: pynndescent>=0.5 in /usr/local/lib/python3.10/dist-packages (from umap-learn->pyscenic) (0.5.13)\n",
            "Requirement already satisfied: zipp>=0.5 in /usr/local/lib/python3.10/dist-packages (from importlib-metadata>=4.13.0->dask->pyscenic) (3.19.2)\n",
            "Requirement already satisfied: MarkupSafe>=2.0 in /usr/local/lib/python3.10/dist-packages (from jinja2>=2.10.3->distributed->pyscenic) (2.1.5)\n",
            "Requirement already satisfied: six>=1.5 in /usr/local/lib/python3.10/dist-packages (from python-dateutil>=2.8.2->pandas>=1.3.5->pyscenic) (1.16.0)\n",
            "Requirement already satisfied: pyarrow-hotfix in /usr/local/lib/python3.10/dist-packages (from dask[complete]->arboreto>=0.1.6->pyscenic) (0.6)\n",
            "Requirement already satisfied: lz4>=4.3.2 in /usr/local/lib/python3.10/dist-packages (from dask[complete]->arboreto>=0.1.6->pyscenic) (4.3.3)\n",
            "Requirement already satisfied: dask-expr<1.2,>=1.1 in /usr/local/lib/python3.10/dist-packages (from dask->pyscenic) (1.1.9)\n",
            "Requirement already satisfied: bokeh>=2.4.2 in /usr/local/lib/python3.10/dist-packages (from dask->pyscenic) (3.5.1)\n",
            "Requirement already satisfied: contourpy>=1.2 in /usr/local/lib/python3.10/dist-packages (from bokeh>=2.4.2->dask->pyscenic) (1.2.1)\n",
            "Requirement already satisfied: pillow>=7.1.0 in /usr/local/lib/python3.10/dist-packages (from bokeh>=2.4.2->dask->pyscenic) (10.4.0)\n",
            "Requirement already satisfied: xyzservices>=2021.09.1 in /usr/local/lib/python3.10/dist-packages (from bokeh>=2.4.2->dask->pyscenic) (2024.6.0)\n"
          ]
        }
      ]
    },
    {
      "cell_type": "code",
      "source": [
        "import os\n",
        "print(os.environ['PATH'])"
      ],
      "metadata": {
        "colab": {
          "base_uri": "https://localhost:8080/"
        },
        "id": "Wo8BW5sTMd8S",
        "outputId": "44d394ab-e6aa-4896-ada2-bf4fd61d370a"
      },
      "execution_count": 5,
      "outputs": [
        {
          "output_type": "stream",
          "name": "stdout",
          "text": [
            "/opt/bin:/usr/local/sbin:/usr/local/bin:/usr/sbin:/usr/bin:/sbin:/bin:/tools/node/bin:/tools/google-cloud-sdk/bin\n"
          ]
        }
      ]
    },
    {
      "cell_type": "code",
      "source": [
        "import sys\n",
        "import os\n",
        "\n",
        "for path in sys.path:\n",
        "    pyscenic_path = os.path.join(path, 'pyscenic')\n",
        "    if os.path.exists(pyscenic_path):\n",
        "        print(f\"pyscenic found at: {pyscenic_path}\")\n",
        "        break\n",
        "else:\n",
        "    print(\"pyscenic not found in sys.path\")"
      ],
      "metadata": {
        "colab": {
          "base_uri": "https://localhost:8080/"
        },
        "id": "RoHjKGc0NCKS",
        "outputId": "0107f2c5-5ee7-47de-edf6-6fb996e2ba6b"
      },
      "execution_count": 6,
      "outputs": [
        {
          "output_type": "stream",
          "name": "stdout",
          "text": [
            "pyscenic found at: /usr/local/lib/python3.10/dist-packages/pyscenic\n"
          ]
        }
      ]
    },
    {
      "cell_type": "code",
      "source": [
        "import os\n",
        "import subprocess\n",
        "import warnings\n",
        "import pandas as pd\n",
        "import networkx as nx\n",
        "import numpy as np\n",
        "import seaborn as sns\n",
        "import matplotlib.pyplot as plt\n",
        "from numba.core.errors import NumbaWarning\n",
        "import scanpy as sc\n",
        "import pickle\n",
        "import scanpy as sc\n",
        "import anndata\n",
        "import pandas as pd\n",
        "import os\n",
        "import pickle\n",
        "import pyscenic\n",
        "print(pyscenic.__file__)\n",
        "print(pyscenic)\n",
        "\n",
        "# Directory setup\n",
        "input_dir = '/content/drive/MyDrive/Programmable Biology Group/Srikar/Code/cells/tf-flow-design/combined_adata_folder/'\n",
        "output_dir = '/content/drive/MyDrive/Programmable Biology Group/Srikar/Code/cells/tf-flow-design/dataset_generation_v0/'\n",
        "os.makedirs(output_dir, exist_ok=True)"
      ],
      "metadata": {
        "colab": {
          "base_uri": "https://localhost:8080/"
        },
        "id": "gVd2VhLbHOzS",
        "outputId": "15ab67f0-44ff-48a8-c8a9-b70ae62257b6"
      },
      "execution_count": 7,
      "outputs": [
        {
          "output_type": "stream",
          "name": "stdout",
          "text": [
            "/usr/local/lib/python3.10/dist-packages/pyscenic/__init__.py\n",
            "<module 'pyscenic' from '/usr/local/lib/python3.10/dist-packages/pyscenic/__init__.py'>\n"
          ]
        }
      ]
    },
    {
      "cell_type": "code",
      "source": [
        "!ls /usr/local/lib/python3.10/dist-packages/pyscenic/cli/pyscenic.py"
      ],
      "metadata": {
        "colab": {
          "base_uri": "https://localhost:8080/"
        },
        "id": "-UiXMoqyOaex",
        "outputId": "ba6340bb-dcfb-435e-f281-fe59073c5069"
      },
      "execution_count": 8,
      "outputs": [
        {
          "output_type": "stream",
          "name": "stdout",
          "text": [
            "/usr/local/lib/python3.10/dist-packages/pyscenic/cli/pyscenic.py\n"
          ]
        }
      ]
    },
    {
      "cell_type": "code",
      "source": [
        "import pyscenic\n",
        "print(dir(pyscenic))"
      ],
      "metadata": {
        "colab": {
          "base_uri": "https://localhost:8080/"
        },
        "id": "eEaTVz_APbF9",
        "outputId": "784115cd-c28d-4e68-8644-1e6baf2cc79f"
      },
      "execution_count": 9,
      "outputs": [
        {
          "output_type": "stream",
          "name": "stdout",
          "text": [
            "['LOGGER', '__builtins__', '__cached__', '__doc__', '__file__', '__loader__', '__name__', '__package__', '__path__', '__spec__', '__version__', '_version', 'create_logging_handler', 'log', 'logging', 'logging_debug_opt']\n"
          ]
        }
      ]
    },
    {
      "cell_type": "code",
      "source": [
        "import pyscenic.cli"
      ],
      "metadata": {
        "id": "peXOAFNLRXRK"
      },
      "execution_count": 10,
      "outputs": []
    },
    {
      "cell_type": "code",
      "source": [
        "import os\n",
        "import subprocess\n",
        "import sys\n",
        "import shutil\n",
        "\n",
        "def find_pyscenic_executable():\n",
        "    # Try to find pyscenic using the 'which' command\n",
        "    try:\n",
        "        return subprocess.check_output(['which', 'pyscenic'], universal_newlines=True).strip()\n",
        "    except subprocess.CalledProcessError:\n",
        "        # If 'which' fails, try to find it in common locations\n",
        "        common_locations = [\n",
        "            '/usr/local/bin/pyscenic',\n",
        "            '/usr/bin/pyscenic',\n",
        "            os.path.join(sys.exec_prefix, 'bin', 'pyscenic'),\n",
        "            os.path.join(os.path.dirname(sys.executable), 'pyscenic'),\n",
        "        ]\n",
        "        for location in common_locations:\n",
        "            if os.path.exists(location):\n",
        "                return location\n",
        "    return None\n",
        "\n",
        "pyscenic_exec = find_pyscenic_executable()\n",
        "if not pyscenic_exec:\n",
        "    raise FileNotFoundError(\"pyscenic executable not found. Please ensure it's installed and in your PATH.\")\n",
        "\n",
        "print(f\"Found pyscenic at: {pyscenic_exec}\")"
      ],
      "metadata": {
        "colab": {
          "base_uri": "https://localhost:8080/"
        },
        "id": "NvGl119YRDg5",
        "outputId": "b3f79c57-7686-4930-e19c-9f35b6300aa1"
      },
      "execution_count": 11,
      "outputs": [
        {
          "output_type": "stream",
          "name": "stdout",
          "text": [
            "Found pyscenic at: /usr/local/bin/pyscenic\n"
          ]
        }
      ]
    },
    {
      "cell_type": "code",
      "source": [
        "def run_grnboost2(expression_matrix, class_name):\n",
        "    print(f\"Running GRNBoost2 for {class_name}...\")\n",
        "    ex_matrix_fname = os.path.join(output_dir, f'expression_matrix_{class_name}.csv')\n",
        "    adj_fname = os.path.join(output_dir, f'adj_{class_name}.csv')\n",
        "    expression_matrix.to_csv(ex_matrix_fname)\n",
        "\n",
        "    pyscenic_exec = '/usr/local/bin/pyscenic'  # Use the path we found\n",
        "\n",
        "    cmd = [\n",
        "        pyscenic_exec,\n",
        "        \"grn\",\n",
        "        ex_matrix_fname,\n",
        "        \"-o\", adj_fname,\n",
        "        \"-m\", \"grnboost2\",\n",
        "        \"--num_workers\", \"1\"\n",
        "    ]\n",
        "\n",
        "    try:\n",
        "        result = subprocess.run(\n",
        "            cmd,\n",
        "            capture_output=True,\n",
        "            text=True,\n",
        "            check=True\n",
        "        )\n",
        "        print(\"GRNBoost2 output:\", result.stdout)\n",
        "    except subprocess.CalledProcessError as e:\n",
        "        print(\"GRNBoost2 error output:\", e.stderr)\n",
        "        raise RuntimeError(\"GRNBoost2 failed to run successfully\") from e\n",
        "\n",
        "    if not os.path.exists(adj_fname) or os.stat(adj_fname).st_size == 0:\n",
        "        raise FileNotFoundError(f\"{adj_fname} not found or empty. Ensure pySCENIC ran correctly.\")\n",
        "\n",
        "    return adj_fname\n",
        "\n",
        "def prioritize_genes(adj_fname, class_name):\n",
        "    # Read the adjacency matrix\n",
        "    network = pd.read_csv(adj_fname)\n",
        "\n",
        "    # Create graph\n",
        "    G = nx.from_pandas_edgelist(df=network, source='TF', target='target', edge_attr='importance')\n",
        "    print(f'Loaded {len(G.nodes):,} genes with {len(G.edges):,} edges.')\n",
        "\n",
        "    # Prune graph (optional, adjust cutoff as needed)\n",
        "    cutoff = 1\n",
        "    print(f'Removing all edges with weight < {cutoff}...\\n')\n",
        "    bad_edges = [(s,t,w) for (s,t,w) in G.edges.data('importance') if w < cutoff]\n",
        "    G.remove_edges_from(bad_edges)\n",
        "    print(f'Graph now has {len(G.nodes):,} genes and {len(G.edges):,} edges.')\n",
        "\n",
        "    # Run PageRank\n",
        "    pr = nx.pagerank(G, alpha=0.85, max_iter=50, weight='importance')\n",
        "\n",
        "    # Create dataframe for PageRank values\n",
        "    prdf = pd.DataFrame(pd.Series(pr)).reset_index()\n",
        "    prdf.columns = ['Gene', 'PageRank']\n",
        "\n",
        "    # Sort and save ranked genes\n",
        "    ranked_genes = prdf.sort_values('PageRank', ascending=False)\n",
        "    ranked_genes_file = os.path.join(output_dir, f'ranked_genes_{class_name}.csv')\n",
        "    ranked_genes.to_csv(ranked_genes_file, index=False)\n",
        "\n",
        "    return ranked_genes.head(10)  # Return top 10 genes\n",
        "\n",
        "# test case\n",
        "\n",
        "# Suppress Numba warnings for cleaner output\n",
        "warnings.filterwarnings(\"ignore\", category=NumbaWarning)\n",
        "\n",
        "# Process just one .h5ad file as a test case\n",
        "test_file = next(f for f in os.listdir(input_dir) if f.endswith('.h5ad'))\n",
        "class_name = test_file.split('.')[0].split('combined_adata_')[-1]\n",
        "file_path = os.path.join(input_dir, test_file)\n",
        "\n",
        "print(f\"Processing test file: {test_file}\")\n",
        "\n",
        "# Load the .h5ad file\n",
        "adata = sc.read_h5ad(file_path)\n",
        "\n",
        "# Run analysis\n",
        "try:\n",
        "    expression_matrix = adata.to_df()\n",
        "    print(f\"Expression matrix for {class_name} shape: {expression_matrix.shape}\")\n",
        "\n",
        "    # Strip gene names\n",
        "    expression_matrix.columns = expression_matrix.columns.str.strip().str.upper()\n",
        "\n",
        "    # client = setup_dask_client()\n",
        "    adj_fname = run_grnboost2(expression_matrix, class_name)\n",
        "    top_genes = prioritize_genes(adj_fname, class_name)\n",
        "    print(f\"Top genes for {class_name}:\\n{top_genes}\")\n",
        "\n",
        "    # Visualize results\n",
        "    plt.figure(figsize=(12, 6))\n",
        "    sns.barplot(x='PageRank', y='Gene', data=top_genes)\n",
        "    plt.title(f'Top 10 Genes for {class_name}')\n",
        "    plt.tight_layout()\n",
        "    plt.savefig(os.path.join(output_dir, f'top_genes_{class_name}.png'))\n",
        "    plt.close()\n",
        "\n",
        "    print(\"Visualization saved.\")\n",
        "\n",
        "except Exception as e:\n",
        "    print(f\"Error processing {class_name}: {e}\")\n",
        "\n",
        "print(\"Test case completed.\")"
      ],
      "metadata": {
        "colab": {
          "base_uri": "https://localhost:8080/"
        },
        "id": "wH8YQ1rZI7yj",
        "outputId": "f8864795-31a4-4f14-cf96-947df08fccdc"
      },
      "execution_count": 12,
      "outputs": [
        {
          "output_type": "stream",
          "name": "stdout",
          "text": [
            "Processing test file: combined_adata_macrophage.h5ad\n",
            "Expression matrix for macrophage shape: (50663, 4214)\n",
            "Running GRNBoost2 for macrophage...\n",
            "GRNBoost2 error output: /usr/local/lib/python3.10/dist-packages/numba/np/ufunc/parallel.py:371: NumbaWarning: The TBB threading layer requires TBB version 2021 update 6 or later i.e., TBB_INTERFACE_VERSION >= 12060. Found TBB_INTERFACE_VERSION = 12050. The TBB threading layer is disabled.\n",
            "  warnings.warn(problem)\n",
            "/usr/local/lib/python3.10/dist-packages/pyscenic/transform.py:42: FutureWarning: In the future `np.object` will be defined as the corresponding NumPy scalar.\n",
            "  (\"Enrichment\", COLUMN_NAME_ANNOTATION): np.object,\n",
            "Traceback (most recent call last):\n",
            "  File \"/usr/local/bin/pyscenic\", line 5, in <module>\n",
            "    from pyscenic.cli.pyscenic import main\n",
            "  File \"/usr/local/lib/python3.10/dist-packages/pyscenic/cli/pyscenic.py\", line 26, in <module>\n",
            "    from pyscenic.prune import _prepare_client, find_features, prune2df\n",
            "  File \"/usr/local/lib/python3.10/dist-packages/pyscenic/prune.py\", line 27, in <module>\n",
            "    from .transform import (\n",
            "  File \"/usr/local/lib/python3.10/dist-packages/pyscenic/transform.py\", line 42, in <module>\n",
            "    (\"Enrichment\", COLUMN_NAME_ANNOTATION): np.object,\n",
            "  File \"/usr/local/lib/python3.10/dist-packages/numpy/__init__.py\", line 324, in __getattr__\n",
            "    raise AttributeError(__former_attrs__[attr])\n",
            "AttributeError: module 'numpy' has no attribute 'object'.\n",
            "`np.object` was a deprecated alias for the builtin `object`. To avoid this error in existing code, use `object` by itself. Doing this will not modify any behavior and is safe. \n",
            "The aliases was originally deprecated in NumPy 1.20; for more details and guidance see the original release note at:\n",
            "    https://numpy.org/devdocs/release/1.20.0-notes.html#deprecations. Did you mean: 'object_'?\n",
            "\n",
            "Error processing macrophage: GRNBoost2 failed to run successfully\n",
            "Test case completed.\n"
          ]
        }
      ]
    },
    {
      "cell_type": "code",
      "source": [
        "# full case"
      ],
      "metadata": {
        "id": "B_sDjj1_L8w-"
      },
      "execution_count": null,
      "outputs": []
    },
    {
      "cell_type": "code",
      "source": [
        "# Suppress Numba warnings for cleaner output\n",
        "warnings.filterwarnings(\"ignore\", category=NumbaWarning)\n",
        "\n",
        "# Loop through each .h5ad file in the directory\n",
        "all_results = {}\n",
        "for file_name in os.listdir(input_dir):\n",
        "    if file_name.endswith('.h5ad'):\n",
        "        class_name = file_name.split('.')[0].split('combined_adata_')[-1]\n",
        "        file_path = os.path.join(input_dir, file_name)\n",
        "\n",
        "        # Load the .h5ad file\n",
        "        adata = sc.read_h5ad(file_path)\n",
        "\n",
        "        # Run analysis\n",
        "        try:\n",
        "            expression_matrix = adata.to_df()\n",
        "            print(f\"Expression matrix for {class_name} shape: {expression_matrix.shape}\")\n",
        "\n",
        "            # Strip gene names\n",
        "            expression_matrix.columns = expression_matrix.columns.str.strip()\n",
        "\n",
        "            adj_fname = run_grnboost2(expression_matrix, class_name)\n",
        "            top_genes = prioritize_genes(adj_fname, class_name)\n",
        "            all_results[class_name] = top_genes\n",
        "            print(f\"Top genes for {class_name}:\\n{top_genes}\")\n",
        "        except Exception as e:\n",
        "            print(f\"Error processing {class_name}: {e}\")\n",
        "\n",
        "# Save the results\n",
        "results_file = os.path.join(output_dir, 'gene_prioritization_results.pkl')\n",
        "with open(results_file, 'wb') as f:\n",
        "    pickle.dump(all_results, f)\n",
        "\n",
        "print(\"All analyses completed and saved.\")\n",
        "\n",
        "# Visualize results (optional)\n",
        "for class_name, top_genes in all_results.items():\n",
        "    plt.figure(figsize=(12, 6))\n",
        "    sns.barplot(x='PageRank', y='Gene', data=top_genes)\n",
        "    plt.title(f'Top 10 Genes for {class_name}')\n",
        "    plt.tight_layout()\n",
        "    plt.savefig(os.path.join(output_dir, f'top_genes_{class_name}.png'))\n",
        "    plt.close()\n",
        "\n",
        "print(\"Visualizations saved.\")"
      ],
      "metadata": {
        "id": "OqsCZpsPI-RX"
      },
      "execution_count": null,
      "outputs": []
    }
  ],
  "metadata": {
    "accelerator": "TPU",
    "colab": {
      "collapsed_sections": [
        "-CKlrWyyc6AU",
        "dTzkTLjxc96v"
      ],
      "gpuType": "V28",
      "provenance": []
    },
    "kernelspec": {
      "display_name": "Python 3",
      "name": "python3"
    },
    "language_info": {
      "name": "python"
    }
  },
  "nbformat": 4,
  "nbformat_minor": 0
}